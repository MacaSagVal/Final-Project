{
 "cells": [
  {
   "cell_type": "code",
   "execution_count": 1,
   "id": "0a5a3c56",
   "metadata": {},
   "outputs": [
    {
     "name": "stderr",
     "output_type": "stream",
     "text": [
      "2023-03-16 10:15:44.990203: I tensorflow/core/platform/cpu_feature_guard.cc:193] This TensorFlow binary is optimized with oneAPI Deep Neural Network Library (oneDNN) to use the following CPU instructions in performance-critical operations:  AVX2 AVX512F AVX512_VNNI FMA\n",
      "To enable them in other operations, rebuild TensorFlow with the appropriate compiler flags.\n",
      "2023-03-16 10:15:45.096756: I tensorflow/core/util/port.cc:104] oneDNN custom operations are on. You may see slightly different numerical results due to floating-point round-off errors from different computation orders. To turn them off, set the environment variable `TF_ENABLE_ONEDNN_OPTS=0`.\n",
      "2023-03-16 10:15:45.100340: W tensorflow/compiler/xla/stream_executor/platform/default/dso_loader.cc:64] Could not load dynamic library 'libcudart.so.11.0'; dlerror: libcudart.so.11.0: cannot open shared object file: No such file or directory\n",
      "2023-03-16 10:15:45.100349: I tensorflow/compiler/xla/stream_executor/cuda/cudart_stub.cc:29] Ignore above cudart dlerror if you do not have a GPU set up on your machine.\n",
      "2023-03-16 10:15:45.493530: W tensorflow/compiler/xla/stream_executor/platform/default/dso_loader.cc:64] Could not load dynamic library 'libnvinfer.so.7'; dlerror: libnvinfer.so.7: cannot open shared object file: No such file or directory\n",
      "2023-03-16 10:15:45.493580: W tensorflow/compiler/xla/stream_executor/platform/default/dso_loader.cc:64] Could not load dynamic library 'libnvinfer_plugin.so.7'; dlerror: libnvinfer_plugin.so.7: cannot open shared object file: No such file or directory\n",
      "2023-03-16 10:15:45.493584: W tensorflow/compiler/tf2tensorrt/utils/py_utils.cc:38] TF-TRT Warning: Cannot dlopen some TensorRT libraries. If you would like to use Nvidia GPU with TensorRT, please make sure the missing libraries mentioned above are installed properly.\n"
     ]
    },
    {
     "name": "stdout",
     "output_type": "stream",
     "text": [
      "WARNING:tensorflow:From /home/maca/anaconda3/lib/python3.9/site-packages/tensorflow/python/compat/v2_compat.py:107: disable_resource_variables (from tensorflow.python.ops.variable_scope) is deprecated and will be removed in a future version.\n",
      "Instructions for updating:\n",
      "non-resource variables are not supported in the long term\n"
     ]
    }
   ],
   "source": [
    "\n",
    "import numpy as np # used for handling numbers\n",
    "import pandas as pd # used for handling the dataset\n",
    "from sklearn.impute import SimpleImputer # used for handling missing data\n",
    "from sklearn.preprocessing import LabelEncoder, OneHotEncoder # used for encoding categorical data\n",
    "from sklearn.model_selection import train_test_split # used for splitting training and testing data\n",
    "from sklearn.preprocessing import StandardScaler # used for feature scaling\n",
    "\n",
    "\n",
    "\n",
    "import matplotlib.pyplot as plt\n",
    "import tensorflow.compat.v1 as tf\n",
    "tf.disable_v2_behavior()\n",
    "from sklearn.utils import shuffle\n",
    "\n",
    "\n",
    "\n",
    "from sklearn.model_selection import KFold\n",
    "from sklearn.neighbors import KNeighborsClassifier\n",
    "from sklearn.metrics import mean_absolute_error\n"
   ]
  },
  {
   "cell_type": "code",
   "execution_count": 2,
   "id": "0e94e918",
   "metadata": {
    "scrolled": true
   },
   "outputs": [
    {
     "name": "stdout",
     "output_type": "stream",
     "text": [
      "(494020, 42)\n",
      "(494020, 2)\n"
     ]
    }
   ],
   "source": [
    "#reading the dataset\n",
    "df = pd.read_csv('10_data_trimed_attack_noAttack.csv')\n",
    "\n",
    "def read_dataset():\n",
    "    #print\n",
    "    X = df[df.columns[0:42]].values\n",
    "    y = df[df.columns[41]]\n",
    "    \n",
    "    \n",
    "    #encode the dependant variable\n",
    "    Y = one_hot_encode(y)\n",
    "    print(X.shape)\n",
    "    print(Y.shape)\n",
    "    return(X,Y)\n",
    "\n",
    "#define one-hot-encoder function\n",
    "def one_hot_encode(labels):\n",
    "    n_labels = len(labels)\n",
    "    n_unique_labels = len(np.unique(labels))\n",
    "    one_hot_encode = np.zeros((n_labels, n_unique_labels))\n",
    "    one_hot_encode[np.arange(n_labels), labels] = 1\n",
    "    return one_hot_encode\n",
    "\n",
    "#Read the dataset\n",
    "X, Y = read_dataset()\n",
    "\n"
   ]
  },
  {
   "cell_type": "code",
   "execution_count": 3,
   "id": "2b157746",
   "metadata": {},
   "outputs": [
    {
     "name": "stdout",
     "output_type": "stream",
     "text": [
      "(395216, 42)\n",
      "(395216, 2)\n",
      "(98804, 42)\n",
      "(98804, 2)\n"
     ]
    }
   ],
   "source": [
    "#shufffle the dataset to mix up the rows\n",
    "X,Y = shuffle(X, Y,random_state = 1)\n",
    "\n",
    "#dataset into train & test \n",
    "train_x, test_x, train_y, test_y = train_test_split(X, Y, test_size = 0.20, random_state=415)\n",
    "\n",
    "#shapes of the training and testing\n",
    "print(train_x.shape)\n",
    "print(train_y.shape)\n",
    "print(test_x.shape)\n",
    "print(test_y.shape)\n"
   ]
  },
  {
   "cell_type": "code",
   "execution_count": 4,
   "id": "cffbc314",
   "metadata": {},
   "outputs": [
    {
     "name": "stdout",
     "output_type": "stream",
     "text": [
      "n_dim 42\n"
     ]
    }
   ],
   "source": [
    "#define the important parameters and variables to work with the tensors\n",
    "initial_learning_rate = 0.3\n",
    "decay_steps = 10000\n",
    "decay_rate = 0.96\n",
    "training_epochs = 500\n",
    "cost_history = np.empty(shape=[1], dtype=float)\n",
    "n_dim = X.shape[1]\n",
    "print(\"n_dim\", n_dim)\n",
    "n_class = 2\n",
    "model_path = \"model\"\n",
    "\n"
   ]
  },
  {
   "cell_type": "code",
   "execution_count": 5,
   "id": "969f8a4c",
   "metadata": {},
   "outputs": [
    {
     "data": {
      "text/plain": [
       "<tf.Tensor 'Placeholder_1:0' shape=(?, 2) dtype=float32>"
      ]
     },
     "execution_count": 5,
     "metadata": {},
     "output_type": "execute_result"
    }
   ],
   "source": [
    "#define the number of hidden layers and number of neurons for each layer\n",
    "n_hidden_1 = 20\n",
    "n_hidden_2 = 20\n",
    "n_hidden_3 = 20\n",
    "\n",
    "global_step = tf.Variable(0, trainable=False)\n",
    "learning_rate = tf.train.exponential_decay(initial_learning_rate, global_step, decay_steps, decay_rate)\n",
    "\n",
    "x = tf.placeholder(tf.float32, [None, n_dim])\n",
    "W = tf.Variable(tf.zeros([n_dim, n_class]))\n",
    "b = tf.Variable(tf.zeros([n_class]))\n",
    "y_ = tf.placeholder(tf.float32, [None, n_class])\n",
    "\n",
    "y_\n"
   ]
  },
  {
   "cell_type": "code",
   "execution_count": 6,
   "id": "01da034a",
   "metadata": {},
   "outputs": [],
   "source": [
    "#define the model\n",
    "\n",
    "def attack_finder(x, weights, biases):\n",
    "    \n",
    "    #RELU activation function\n",
    "    layer_1 = tf.add(tf.matmul(x, weights[\"h1\"]), biases[\"b1\"])\n",
    "    layer_1 = tf.nn.relu(layer_1)\n",
    "    \n",
    "    #sigmoid activation function\n",
    "    layer_2 = tf.add(tf.matmul(layer_1, weights[\"h2\"]), biases[\"b2\"])\n",
    "    layer_2 = tf.nn.sigmoid(layer_2)\n",
    "     \n",
    "    #softmax activation function\n",
    "    layer_3 = tf.add(tf.matmul(layer_2, weights[\"h3\"]), biases[\"b3\"])\n",
    "    layer_3 = tf.nn.softmax(layer_3)\n",
    "    \n",
    "    #outer layer relu activation function\n",
    "    out_layer = tf.add(tf.matmul(layer_3, weights[\"out\"]), biases[\"out\"])\n",
    "    out_layer = tf.nn.softmax(out_layer)\n",
    "    \n",
    "    return out_layer\n",
    "    \n",
    "    \n"
   ]
  },
  {
   "cell_type": "code",
   "execution_count": 7,
   "id": "b981384c",
   "metadata": {},
   "outputs": [],
   "source": [
    "#Define the weights and biases for each layer\n",
    "\n",
    "weights = {\n",
    "    \"h1\" : tf.Variable(tf.truncated_normal([n_dim, n_hidden_1])),\n",
    "    \"h2\" : tf.Variable(tf.truncated_normal([n_hidden_1, n_hidden_2])),\n",
    "    \"h3\" : tf.Variable(tf.truncated_normal([n_hidden_2, n_hidden_3])),\n",
    "    \"out\" : tf.Variable(tf.truncated_normal([n_hidden_3, n_class]))\n",
    "}\n",
    "biases = {\n",
    "    \"b1\" : tf.Variable(tf.truncated_normal([n_hidden_1])),\n",
    "    \"b2\" : tf.Variable(tf.truncated_normal([n_hidden_2])),\n",
    "    \"b3\" : tf.Variable(tf.truncated_normal([n_hidden_3])),\n",
    "    \"out\" : tf.Variable(tf.truncated_normal([n_class]))\n",
    "}\n",
    "    \n"
   ]
  },
  {
   "cell_type": "code",
   "execution_count": 8,
   "id": "4f959307",
   "metadata": {},
   "outputs": [
    {
     "name": "stdout",
     "output_type": "stream",
     "text": [
      "(?, 2)\n"
     ]
    }
   ],
   "source": [
    "# Initialize all the variables\n",
    "init = tf.global_variables_initializer()\n",
    "saver = tf.train.Saver()\n",
    "\n",
    "# Call your model defined\n",
    "y = attack_finder(x, weights, biases)\n",
    "\n",
    "print(y_.shape)"
   ]
  },
  {
   "cell_type": "code",
   "execution_count": 9,
   "id": "67a27205",
   "metadata": {},
   "outputs": [
    {
     "name": "stderr",
     "output_type": "stream",
     "text": [
      "2023-03-16 10:15:46.853636: I tensorflow/compiler/xla/stream_executor/cuda/cuda_gpu_executor.cc:981] successful NUMA node read from SysFS had negative value (-1), but there must be at least one NUMA node, so returning NUMA node zero\n",
      "2023-03-16 10:15:46.853814: W tensorflow/compiler/xla/stream_executor/platform/default/dso_loader.cc:64] Could not load dynamic library 'libcudart.so.11.0'; dlerror: libcudart.so.11.0: cannot open shared object file: No such file or directory\n",
      "2023-03-16 10:15:46.853872: W tensorflow/compiler/xla/stream_executor/platform/default/dso_loader.cc:64] Could not load dynamic library 'libcublas.so.11'; dlerror: libcublas.so.11: cannot open shared object file: No such file or directory\n",
      "2023-03-16 10:15:46.853911: W tensorflow/compiler/xla/stream_executor/platform/default/dso_loader.cc:64] Could not load dynamic library 'libcublasLt.so.11'; dlerror: libcublasLt.so.11: cannot open shared object file: No such file or directory\n",
      "2023-03-16 10:15:46.853946: W tensorflow/compiler/xla/stream_executor/platform/default/dso_loader.cc:64] Could not load dynamic library 'libcufft.so.10'; dlerror: libcufft.so.10: cannot open shared object file: No such file or directory\n",
      "2023-03-16 10:15:46.853990: W tensorflow/compiler/xla/stream_executor/platform/default/dso_loader.cc:64] Could not load dynamic library 'libcurand.so.10'; dlerror: libcurand.so.10: cannot open shared object file: No such file or directory\n",
      "2023-03-16 10:15:46.854056: W tensorflow/compiler/xla/stream_executor/platform/default/dso_loader.cc:64] Could not load dynamic library 'libcusolver.so.11'; dlerror: libcusolver.so.11: cannot open shared object file: No such file or directory\n",
      "2023-03-16 10:15:46.854124: W tensorflow/compiler/xla/stream_executor/platform/default/dso_loader.cc:64] Could not load dynamic library 'libcusparse.so.11'; dlerror: libcusparse.so.11: cannot open shared object file: No such file or directory\n",
      "2023-03-16 10:15:46.854185: W tensorflow/compiler/xla/stream_executor/platform/default/dso_loader.cc:64] Could not load dynamic library 'libcudnn.so.8'; dlerror: libcudnn.so.8: cannot open shared object file: No such file or directory\n",
      "2023-03-16 10:15:46.854195: W tensorflow/core/common_runtime/gpu/gpu_device.cc:1934] Cannot dlopen some GPU libraries. Please make sure the missing libraries mentioned above are installed properly if you would like to use GPU. Follow the guide at https://www.tensorflow.org/install/gpu for how to download and setup the required libraries for your platform.\n",
      "Skipping registering GPU devices...\n",
      "2023-03-16 10:15:46.854558: I tensorflow/core/platform/cpu_feature_guard.cc:193] This TensorFlow binary is optimized with oneAPI Deep Neural Network Library (oneDNN) to use the following CPU instructions in performance-critical operations:  AVX2 AVX512F AVX512_VNNI FMA\n",
      "To enable them in other operations, rebuild TensorFlow with the appropriate compiler flags.\n",
      "2023-03-16 10:15:46.857425: I tensorflow/compiler/mlir/mlir_graph_optimization_pass.cc:357] MLIR V1 optimization pass is not enabled\n"
     ]
    }
   ],
   "source": [
    "#define the cost function and optimizer\n",
    "cost_function = tf.reduce_mean(tf.nn.softmax_cross_entropy_with_logits_v2(logits=y, labels=y_))\n",
    "training_step = tf.train.GradientDescentOptimizer(learning_rate).minimize(cost_function, global_step=global_step)\n",
    "\n",
    "sess = tf.Session()\n",
    "sess.run(init)"
   ]
  },
  {
   "cell_type": "code",
   "execution_count": 10,
   "id": "fe2eb697",
   "metadata": {},
   "outputs": [
    {
     "name": "stdout",
     "output_type": "stream",
     "text": [
      "epoch :  0 - cost:  0.5684953 - MSE:  0.15302549108193944 - train Accuracy:  0.85622543\n",
      "epoch :  1 - cost:  0.55937856 - MSE:  0.14722577700977904 - train Accuracy:  0.85591674\n",
      "epoch :  2 - cost:  0.5517573 - MSE:  0.1427367655268648 - train Accuracy:  0.857402\n",
      "epoch :  3 - cost:  0.54515076 - MSE:  0.1390895212990576 - train Accuracy:  0.8592542\n",
      "epoch :  4 - cost:  0.53954035 - MSE:  0.13623595077436781 - train Accuracy:  0.8606104\n",
      "epoch :  5 - cost:  0.5346963 - MSE:  0.13398407277194796 - train Accuracy:  0.86178696\n",
      "epoch :  6 - cost:  0.53035086 - MSE:  0.13205739975720673 - train Accuracy:  0.863128\n",
      "epoch :  7 - cost:  0.526408 - MSE:  0.1303979641357162 - train Accuracy:  0.8639706\n",
      "epoch :  8 - cost:  0.52292186 - MSE:  0.1290164909714823 - train Accuracy:  0.86508894\n",
      "epoch :  9 - cost:  0.5198959 - MSE:  0.12795775098404802 - train Accuracy:  0.80483836\n",
      "epoch :  10 - cost:  0.5171292 - MSE:  0.12698931567976696 - train Accuracy:  0.8049851\n",
      "epoch :  11 - cost:  0.5145523 - MSE:  0.12616575319681764 - train Accuracy:  0.8051724\n",
      "epoch :  12 - cost:  0.5121398 - MSE:  0.12535090521487383 - train Accuracy:  0.8055139\n",
      "epoch :  13 - cost:  0.5099146 - MSE:  0.12461728341628187 - train Accuracy:  0.8057012\n",
      "epoch :  14 - cost:  0.50784326 - MSE:  0.12394575817413174 - train Accuracy:  0.80521286\n",
      "epoch :  15 - cost:  0.5059158 - MSE:  0.12330428678789446 - train Accuracy:  0.80548614\n",
      "epoch :  16 - cost:  0.50412893 - MSE:  0.12275325672649481 - train Accuracy:  0.80567336\n",
      "epoch :  17 - cost:  0.50248957 - MSE:  0.12224247129338517 - train Accuracy:  0.8056961\n",
      "epoch :  18 - cost:  0.50093377 - MSE:  0.12181427011196072 - train Accuracy:  0.80574673\n",
      "epoch :  19 - cost:  0.4994482 - MSE:  0.12136782939531394 - train Accuracy:  0.8059719\n",
      "epoch :  20 - cost:  0.49805063 - MSE:  0.12091206381239848 - train Accuracy:  0.80613893\n",
      "epoch :  21 - cost:  0.4967339 - MSE:  0.12050086124918741 - train Accuracy:  0.80625534\n",
      "epoch :  22 - cost:  0.49548128 - MSE:  0.1201264271361327 - train Accuracy:  0.8063869\n",
      "epoch :  23 - cost:  0.49428603 - MSE:  0.1197411225597674 - train Accuracy:  0.8065944\n",
      "epoch :  24 - cost:  0.49309164 - MSE:  0.11932508350988223 - train Accuracy:  0.8067487\n",
      "epoch :  25 - cost:  0.491927 - MSE:  0.11889826213487002 - train Accuracy:  0.80690557\n",
      "epoch :  26 - cost:  0.4907656 - MSE:  0.11843647400791728 - train Accuracy:  0.8071004\n",
      "epoch :  27 - cost:  0.48965582 - MSE:  0.11797320514097341 - train Accuracy:  0.80724466\n",
      "epoch :  28 - cost:  0.4885292 - MSE:  0.11741984752234202 - train Accuracy:  0.80755335\n",
      "epoch :  29 - cost:  0.48733878 - MSE:  0.11675593228011813 - train Accuracy:  0.8079911\n",
      "epoch :  30 - cost:  0.48615247 - MSE:  0.11607066891157415 - train Accuracy:  0.8082087\n",
      "epoch :  31 - cost:  0.48496976 - MSE:  0.11533204319928797 - train Accuracy:  0.8083858\n",
      "epoch :  32 - cost:  0.48373714 - MSE:  0.11452674917188053 - train Accuracy:  0.80856544\n",
      "epoch :  33 - cost:  0.48245502 - MSE:  0.11362989643219933 - train Accuracy:  0.80876786\n",
      "epoch :  34 - cost:  0.48133513 - MSE:  0.11293974282890096 - train Accuracy:  0.8090032\n",
      "epoch :  35 - cost:  0.48031065 - MSE:  0.11234265765196498 - train Accuracy:  0.8092714\n",
      "epoch :  36 - cost:  0.47928482 - MSE:  0.11175894681949397 - train Accuracy:  0.809489\n",
      "epoch :  37 - cost:  0.47823903 - MSE:  0.11120604935814445 - train Accuracy:  0.8096332\n",
      "epoch :  38 - cost:  0.47710887 - MSE:  0.11058637650163256 - train Accuracy:  0.8101975\n",
      "epoch :  39 - cost:  0.47588328 - MSE:  0.10992341109072358 - train Accuracy:  0.8105542\n",
      "epoch :  40 - cost:  0.47467887 - MSE:  0.10925337675198733 - train Accuracy:  0.8122444\n",
      "epoch :  41 - cost:  0.47345194 - MSE:  0.1085535780656791 - train Accuracy:  0.8130263\n",
      "epoch :  42 - cost:  0.4722102 - MSE:  0.10777387936694618 - train Accuracy:  0.8135298\n",
      "epoch :  43 - cost:  0.4710578 - MSE:  0.10696096500348166 - train Accuracy:  0.8892479\n",
      "epoch :  44 - cost:  0.46987143 - MSE:  0.10616067160073314 - train Accuracy:  0.8898653\n",
      "epoch :  45 - cost:  0.46851227 - MSE:  0.10529183783937132 - train Accuracy:  0.89068764\n",
      "epoch :  46 - cost:  0.4670416 - MSE:  0.10429066056464448 - train Accuracy:  0.8913809\n",
      "epoch :  47 - cost:  0.46545905 - MSE:  0.10326818688374713 - train Accuracy:  0.8920413\n",
      "epoch :  48 - cost:  0.46379006 - MSE:  0.1021566757518221 - train Accuracy:  0.89296484\n",
      "epoch :  49 - cost:  0.46201396 - MSE:  0.10090305142597414 - train Accuracy:  0.8937518\n",
      "epoch :  50 - cost:  0.4603744 - MSE:  0.0997249285960677 - train Accuracy:  0.8943691\n",
      "epoch :  51 - cost:  0.45891887 - MSE:  0.09847345983864615 - train Accuracy:  0.8949309\n",
      "epoch :  52 - cost:  0.457558 - MSE:  0.09717368466276492 - train Accuracy:  0.89794695\n",
      "epoch :  53 - cost:  0.45626315 - MSE:  0.09598550912833874 - train Accuracy:  0.8986453\n",
      "epoch :  54 - cost:  0.45510134 - MSE:  0.09488196343751698 - train Accuracy:  0.8991513\n",
      "epoch :  55 - cost:  0.45393112 - MSE:  0.09371508379315929 - train Accuracy:  0.8997232\n",
      "epoch :  56 - cost:  0.45275795 - MSE:  0.09258615705082152 - train Accuracy:  0.9003456\n",
      "epoch :  57 - cost:  0.45158893 - MSE:  0.09143891873070281 - train Accuracy:  0.9009959\n",
      "epoch :  58 - cost:  0.45038778 - MSE:  0.09026942867785384 - train Accuracy:  0.90173477\n",
      "epoch :  59 - cost:  0.44924638 - MSE:  0.0891643287859132 - train Accuracy:  0.90235466\n",
      "epoch :  60 - cost:  0.44813895 - MSE:  0.08817051035996762 - train Accuracy:  0.9029493\n",
      "epoch :  61 - cost:  0.4469298 - MSE:  0.08703906570221676 - train Accuracy:  0.9035591\n",
      "epoch :  62 - cost:  0.4457654 - MSE:  0.08591023720393302 - train Accuracy:  0.9041031\n",
      "epoch :  63 - cost:  0.4446502 - MSE:  0.084817053777506 - train Accuracy:  0.9046648\n",
      "epoch :  64 - cost:  0.4433913 - MSE:  0.0836590151810318 - train Accuracy:  0.9052189\n",
      "epoch :  65 - cost:  0.44215813 - MSE:  0.08254046984097996 - train Accuracy:  0.9069901\n",
      "epoch :  66 - cost:  0.44076207 - MSE:  0.08121093550270787 - train Accuracy:  0.9096064\n",
      "epoch :  67 - cost:  0.4392939 - MSE:  0.07990515171399061 - train Accuracy:  0.91002643\n",
      "epoch :  68 - cost:  0.43730375 - MSE:  0.07815149205956531 - train Accuracy:  0.91040087\n",
      "epoch :  69 - cost:  0.43496335 - MSE:  0.07613939830269213 - train Accuracy:  0.91038066\n",
      "epoch :  70 - cost:  0.43410572 - MSE:  0.07541340312260952 - train Accuracy:  0.9124732\n",
      "epoch :  71 - cost:  0.433259 - MSE:  0.07471642261430256 - train Accuracy:  0.9128502\n",
      "epoch :  72 - cost:  0.43243963 - MSE:  0.07403750192809751 - train Accuracy:  0.9131766\n",
      "epoch :  73 - cost:  0.43164688 - MSE:  0.07341033880474732 - train Accuracy:  0.9134777\n",
      "epoch :  74 - cost:  0.43089676 - MSE:  0.07275211138387268 - train Accuracy:  0.913837\n",
      "epoch :  75 - cost:  0.43009135 - MSE:  0.07208546358857283 - train Accuracy:  0.9141153\n",
      "epoch :  76 - cost:  0.42932177 - MSE:  0.07144872594611434 - train Accuracy:  0.9144088\n",
      "epoch :  77 - cost:  0.4285683 - MSE:  0.0708220943826684 - train Accuracy:  0.91483897\n",
      "epoch :  78 - cost:  0.42780122 - MSE:  0.07017467184646475 - train Accuracy:  0.91559047\n",
      "epoch :  79 - cost:  0.42707556 - MSE:  0.06957681882928149 - train Accuracy:  0.91584855\n",
      "epoch :  80 - cost:  0.42635503 - MSE:  0.06899271949806873 - train Accuracy:  0.91608894\n",
      "epoch :  81 - cost:  0.42558667 - MSE:  0.06837928352930588 - train Accuracy:  0.91634446\n",
      "epoch :  82 - cost:  0.42485073 - MSE:  0.06778519853976171 - train Accuracy:  0.91660005\n",
      "epoch :  83 - cost:  0.42409748 - MSE:  0.06717966102992402 - train Accuracy:  0.9173996\n",
      "epoch :  84 - cost:  0.42332575 - MSE:  0.06655782425449448 - train Accuracy:  0.9186217\n",
      "epoch :  85 - cost:  0.42261147 - MSE:  0.06599450954393289 - train Accuracy:  0.9187988\n",
      "epoch :  86 - cost:  0.42190093 - MSE:  0.06543485663496437 - train Accuracy:  0.9190519\n",
      "epoch :  87 - cost:  0.42117482 - MSE:  0.0648434250004845 - train Accuracy:  0.91925174\n",
      "epoch :  88 - cost:  0.42044723 - MSE:  0.06426961763394012 - train Accuracy:  0.91945416\n",
      "epoch :  89 - cost:  0.41968852 - MSE:  0.0636514829023138 - train Accuracy:  0.9196389\n",
      "epoch :  90 - cost:  0.41895816 - MSE:  0.06304459233607157 - train Accuracy:  0.9198008\n",
      "epoch :  91 - cost:  0.4182069 - MSE:  0.06240567369763605 - train Accuracy:  0.91998553\n",
      "epoch :  92 - cost:  0.41743004 - MSE:  0.061757467280223174 - train Accuracy:  0.9202259\n"
     ]
    },
    {
     "name": "stdout",
     "output_type": "stream",
     "text": [
      "epoch :  93 - cost:  0.41664135 - MSE:  0.06112035644330733 - train Accuracy:  0.9204587\n",
      "epoch :  94 - cost:  0.4158213 - MSE:  0.0604139898265888 - train Accuracy:  0.9208281\n",
      "epoch :  95 - cost:  0.41505784 - MSE:  0.05979133908510833 - train Accuracy:  0.9210862\n",
      "epoch :  96 - cost:  0.4143063 - MSE:  0.059076305738555636 - train Accuracy:  0.9213367\n",
      "epoch :  97 - cost:  0.41388622 - MSE:  0.05890911355155053 - train Accuracy:  0.92153656\n",
      "epoch :  98 - cost:  0.41307586 - MSE:  0.05817000588247037 - train Accuracy:  0.9216707\n",
      "epoch :  99 - cost:  0.4122383 - MSE:  0.057477457091414774 - train Accuracy:  0.92200214\n",
      "epoch :  100 - cost:  0.4114192 - MSE:  0.05672033936385892 - train Accuracy:  0.9225411\n",
      "epoch :  101 - cost:  0.41087154 - MSE:  0.05605782690513845 - train Accuracy:  0.9229181\n",
      "epoch :  102 - cost:  0.4130702 - MSE:  0.06106217282040315 - train Accuracy:  0.9194972\n",
      "epoch :  103 - cost:  0.41228008 - MSE:  0.06052707071093262 - train Accuracy:  0.9304001\n",
      "epoch :  104 - cost:  0.41162163 - MSE:  0.060043674823004274 - train Accuracy:  0.9305848\n",
      "epoch :  105 - cost:  0.41092363 - MSE:  0.059488716758524476 - train Accuracy:  0.93072647\n",
      "epoch :  106 - cost:  0.41021916 - MSE:  0.05882380291492753 - train Accuracy:  0.93085045\n",
      "epoch :  107 - cost:  0.40953937 - MSE:  0.05818547358867752 - train Accuracy:  0.9309922\n",
      "epoch :  108 - cost:  0.4088691 - MSE:  0.0576127151411345 - train Accuracy:  0.9311794\n",
      "epoch :  109 - cost:  0.40819165 - MSE:  0.0570362348474528 - train Accuracy:  0.9312857\n",
      "epoch :  110 - cost:  0.40746593 - MSE:  0.05641873458880378 - train Accuracy:  0.93211055\n",
      "epoch :  111 - cost:  0.40667576 - MSE:  0.05575436423739131 - train Accuracy:  0.93556434\n",
      "epoch :  112 - cost:  0.40600896 - MSE:  0.05527350387292441 - train Accuracy:  0.9358123\n",
      "epoch :  113 - cost:  0.40549117 - MSE:  0.054859513727006 - train Accuracy:  0.93600714\n",
      "epoch :  114 - cost:  0.40494308 - MSE:  0.05443992256779827 - train Accuracy:  0.9362374\n",
      "epoch :  115 - cost:  0.4043534 - MSE:  0.05399847823194011 - train Accuracy:  0.93639934\n",
      "epoch :  116 - cost:  0.40375572 - MSE:  0.05359271363738874 - train Accuracy:  0.93656886\n",
      "epoch :  117 - cost:  0.4031834 - MSE:  0.05316631803017164 - train Accuracy:  0.93671054\n",
      "epoch :  118 - cost:  0.40268233 - MSE:  0.05276324209360627 - train Accuracy:  0.9368523\n",
      "epoch :  119 - cost:  0.4021452 - MSE:  0.05240924777993728 - train Accuracy:  0.93694335\n",
      "epoch :  120 - cost:  0.40174577 - MSE:  0.05215512949704616 - train Accuracy:  0.93711287\n",
      "epoch :  121 - cost:  0.40123308 - MSE:  0.051790094543437346 - train Accuracy:  0.9372267\n",
      "epoch :  122 - cost:  0.40076914 - MSE:  0.05143201699468837 - train Accuracy:  0.9373406\n",
      "epoch :  123 - cost:  0.40032548 - MSE:  0.05113428643365261 - train Accuracy:  0.9374443\n",
      "epoch :  124 - cost:  0.39984742 - MSE:  0.05077618407298064 - train Accuracy:  0.93751013\n",
      "epoch :  125 - cost:  0.3991379 - MSE:  0.050133666543783977 - train Accuracy:  0.93756324\n",
      "epoch :  126 - cost:  0.3981576 - MSE:  0.04925690406601193 - train Accuracy:  0.9377581\n",
      "epoch :  127 - cost:  0.39774832 - MSE:  0.04893055060303215 - train Accuracy:  0.93783146\n",
      "epoch :  128 - cost:  0.39730984 - MSE:  0.048635495976186355 - train Accuracy:  0.93793017\n",
      "epoch :  129 - cost:  0.3968584 - MSE:  0.048349547720675304 - train Accuracy:  0.9379808\n",
      "epoch :  130 - cost:  0.39643878 - MSE:  0.04798549334264313 - train Accuracy:  0.9381477\n",
      "epoch :  131 - cost:  0.39591864 - MSE:  0.04758114993957677 - train Accuracy:  0.9382515\n",
      "epoch :  132 - cost:  0.39533725 - MSE:  0.04714118606527723 - train Accuracy:  0.9385576\n",
      "epoch :  133 - cost:  0.3950727 - MSE:  0.0468304406658585 - train Accuracy:  0.93868166\n",
      "epoch :  134 - cost:  0.39460403 - MSE:  0.04644140779192358 - train Accuracy:  0.9388183\n",
      "epoch :  135 - cost:  0.39412728 - MSE:  0.04605284883040406 - train Accuracy:  0.9389675\n",
      "epoch :  136 - cost:  0.39366356 - MSE:  0.04567203859838081 - train Accuracy:  0.93908143\n",
      "epoch :  137 - cost:  0.39320475 - MSE:  0.04532373363375176 - train Accuracy:  0.93925095\n",
      "epoch :  138 - cost:  0.3927092 - MSE:  0.04490982630086024 - train Accuracy:  0.93940026\n",
      "epoch :  139 - cost:  0.39219525 - MSE:  0.0444879458781798 - train Accuracy:  0.93954444\n",
      "epoch :  140 - cost:  0.39169922 - MSE:  0.0440892761032519 - train Accuracy:  0.9396684\n",
      "epoch :  141 - cost:  0.3911838 - MSE:  0.043650175476918886 - train Accuracy:  0.93981016\n",
      "epoch :  142 - cost:  0.3906677 - MSE:  0.0432473768362983 - train Accuracy:  0.9401087\n",
      "epoch :  143 - cost:  0.39013314 - MSE:  0.04282480790203403 - train Accuracy:  0.9403035\n",
      "epoch :  144 - cost:  0.38956317 - MSE:  0.04236565677987392 - train Accuracy:  0.94051355\n",
      "epoch :  145 - cost:  0.38903275 - MSE:  0.04188063453996605 - train Accuracy:  0.9407109\n",
      "epoch :  146 - cost:  0.38848838 - MSE:  0.041391909644986215 - train Accuracy:  0.940845\n",
      "epoch :  147 - cost:  0.3880413 - MSE:  0.0409638928935894 - train Accuracy:  0.9416471\n",
      "epoch :  148 - cost:  0.38738683 - MSE:  0.040340889612575995 - train Accuracy:  0.94194317\n",
      "epoch :  149 - cost:  0.38673937 - MSE:  0.03976418571584996 - train Accuracy:  0.9422493\n",
      "epoch :  150 - cost:  0.3859974 - MSE:  0.03910471341499228 - train Accuracy:  0.9426086\n",
      "epoch :  151 - cost:  0.3852078 - MSE:  0.0383529969610715 - train Accuracy:  0.94304883\n",
      "epoch :  152 - cost:  0.3848203 - MSE:  0.037927605683625985 - train Accuracy:  0.94353974\n",
      "epoch :  153 - cost:  0.38406497 - MSE:  0.0372204198208808 - train Accuracy:  0.944109\n",
      "epoch :  154 - cost:  0.38326827 - MSE:  0.03655477074694329 - train Accuracy:  0.9445822\n",
      "epoch :  155 - cost:  0.38254958 - MSE:  0.035965920861435775 - train Accuracy:  0.945192\n",
      "epoch :  156 - cost:  0.38193578 - MSE:  0.03541867960301796 - train Accuracy:  0.94575876\n",
      "epoch :  157 - cost:  0.38136417 - MSE:  0.03497477471391392 - train Accuracy:  0.94625974\n",
      "epoch :  158 - cost:  0.3807533 - MSE:  0.034452960556953585 - train Accuracy:  0.9468771\n",
      "epoch :  159 - cost:  0.38013968 - MSE:  0.03395184230985507 - train Accuracy:  0.94757295\n",
      "epoch :  160 - cost:  0.37957415 - MSE:  0.03348038540322249 - train Accuracy:  0.9482283\n",
      "epoch :  161 - cost:  0.37898976 - MSE:  0.03306069841255921 - train Accuracy:  0.9488735\n",
      "epoch :  162 - cost:  0.37842432 - MSE:  0.032623013794025754 - train Accuracy:  0.94951874\n",
      "epoch :  163 - cost:  0.37785405 - MSE:  0.032175482167695925 - train Accuracy:  0.9501867\n",
      "epoch :  164 - cost:  0.3773007 - MSE:  0.031744871149869 - train Accuracy:  0.95084715\n",
      "epoch :  165 - cost:  0.3767841 - MSE:  0.03135372543612439 - train Accuracy:  0.95141137\n",
      "epoch :  166 - cost:  0.3762834 - MSE:  0.031003463469734024 - train Accuracy:  0.95194274\n",
      "epoch :  167 - cost:  0.3756908 - MSE:  0.0305475320231503 - train Accuracy:  0.9526993\n",
      "epoch :  168 - cost:  0.37528205 - MSE:  0.030125083268791014 - train Accuracy:  0.9534609\n",
      "epoch :  169 - cost:  0.38212684 - MSE:  0.034372081023304836 - train Accuracy:  0.95194274\n",
      "epoch :  170 - cost:  0.38120815 - MSE:  0.03365381760629435 - train Accuracy:  0.9531117\n",
      "epoch :  171 - cost:  0.380381 - MSE:  0.03303009341107629 - train Accuracy:  0.9540024\n",
      "epoch :  172 - cost:  0.38030958 - MSE:  0.03337659284702193 - train Accuracy:  0.9543895\n",
      "epoch :  173 - cost:  0.37939027 - MSE:  0.032601602446169005 - train Accuracy:  0.95523715\n",
      "epoch :  174 - cost:  0.37847483 - MSE:  0.0319917555778384 - train Accuracy:  0.95617586\n",
      "epoch :  175 - cost:  0.3786176 - MSE:  0.03217561695055665 - train Accuracy:  0.95682865\n",
      "epoch :  176 - cost:  0.37954473 - MSE:  0.033447747393528 - train Accuracy:  0.95341283\n",
      "epoch :  177 - cost:  0.3788841 - MSE:  0.032936141849852635 - train Accuracy:  0.9539998\n",
      "epoch :  178 - cost:  0.37822565 - MSE:  0.03245823620532607 - train Accuracy:  0.9545666\n",
      "epoch :  179 - cost:  0.37757128 - MSE:  0.032032977702192086 - train Accuracy:  0.95511824\n",
      "epoch :  180 - cost:  0.37673336 - MSE:  0.03150493382612201 - train Accuracy:  0.96442705\n",
      "epoch :  181 - cost:  0.37612706 - MSE:  0.03117982753968761 - train Accuracy:  0.96499383\n",
      "epoch :  182 - cost:  0.3755512 - MSE:  0.03078426479082307 - train Accuracy:  0.96550494\n",
      "epoch :  183 - cost:  0.3751318 - MSE:  0.030602108112348533 - train Accuracy:  0.96574533\n"
     ]
    },
    {
     "name": "stdout",
     "output_type": "stream",
     "text": [
      "epoch :  184 - cost:  0.37470958 - MSE:  0.030379594700331778 - train Accuracy:  0.9659933\n",
      "epoch :  185 - cost:  0.37438095 - MSE:  0.030246330948879435 - train Accuracy:  0.9660869\n",
      "epoch :  186 - cost:  0.37400758 - MSE:  0.030040772832806657 - train Accuracy:  0.96633995\n",
      "epoch :  187 - cost:  0.37366053 - MSE:  0.029854297259456906 - train Accuracy:  0.9664816\n",
      "epoch :  188 - cost:  0.37331456 - MSE:  0.029714162905186085 - train Accuracy:  0.9666613\n",
      "epoch :  189 - cost:  0.3729796 - MSE:  0.029581849207399397 - train Accuracy:  0.9667903\n",
      "epoch :  190 - cost:  0.37267825 - MSE:  0.029456162423986493 - train Accuracy:  0.96685106\n",
      "epoch :  191 - cost:  0.3723696 - MSE:  0.029313959048137463 - train Accuracy:  0.96696997\n",
      "epoch :  192 - cost:  0.37210333 - MSE:  0.02920869886113515 - train Accuracy:  0.9669978\n",
      "epoch :  193 - cost:  0.37183133 - MSE:  0.029099059061877625 - train Accuracy:  0.9670206\n",
      "epoch :  194 - cost:  0.37165776 - MSE:  0.029079027353041645 - train Accuracy:  0.9669092\n",
      "epoch :  195 - cost:  0.37138516 - MSE:  0.02897423095320077 - train Accuracy:  0.9669826\n",
      "epoch :  196 - cost:  0.37110078 - MSE:  0.028833312953200217 - train Accuracy:  0.96705854\n",
      "epoch :  197 - cost:  0.37084958 - MSE:  0.02873628210795262 - train Accuracy:  0.9670231\n",
      "epoch :  198 - cost:  0.37060288 - MSE:  0.028636550575098 - train Accuracy:  0.967056\n",
      "epoch :  199 - cost:  0.37035623 - MSE:  0.028537390753429117 - train Accuracy:  0.96733683\n",
      "epoch :  200 - cost:  0.37011117 - MSE:  0.028434742283588735 - train Accuracy:  0.9674634\n",
      "epoch :  201 - cost:  0.36986184 - MSE:  0.028312344397836194 - train Accuracy:  0.9675418\n",
      "epoch :  202 - cost:  0.3696401 - MSE:  0.028264640038786364 - train Accuracy:  0.9672584\n",
      "epoch :  203 - cost:  0.36940524 - MSE:  0.028176896493930785 - train Accuracy:  0.96731913\n",
      "epoch :  204 - cost:  0.3691698 - MSE:  0.028081481439489384 - train Accuracy:  0.9673723\n",
      "epoch :  205 - cost:  0.3689404 - MSE:  0.02798511603685083 - train Accuracy:  0.967433\n",
      "epoch :  206 - cost:  0.3687204 - MSE:  0.027897084102146773 - train Accuracy:  0.96746844\n",
      "epoch :  207 - cost:  0.36846158 - MSE:  0.027779317284287494 - train Accuracy:  0.96755195\n",
      "epoch :  208 - cost:  0.36824483 - MSE:  0.027693779221471038 - train Accuracy:  0.9676\n",
      "epoch :  209 - cost:  0.3680096 - MSE:  0.027596287053547414 - train Accuracy:  0.9676632\n",
      "epoch :  210 - cost:  0.36779547 - MSE:  0.02751248011864526 - train Accuracy:  0.96775436\n",
      "epoch :  211 - cost:  0.3675835 - MSE:  0.0274230453406218 - train Accuracy:  0.96779734\n",
      "epoch :  212 - cost:  0.3673902 - MSE:  0.027356462096350734 - train Accuracy:  0.96780497\n",
      "epoch :  213 - cost:  0.36718497 - MSE:  0.02727179198883097 - train Accuracy:  0.96816933\n",
      "epoch :  214 - cost:  0.3669892 - MSE:  0.027196975517866283 - train Accuracy:  0.9682174\n",
      "epoch :  215 - cost:  0.36679575 - MSE:  0.02712660444118974 - train Accuracy:  0.96825784\n",
      "epoch :  216 - cost:  0.36660185 - MSE:  0.02704971825681738 - train Accuracy:  0.9683009\n",
      "epoch :  217 - cost:  0.36641288 - MSE:  0.02697643782475415 - train Accuracy:  0.9683161\n",
      "epoch :  218 - cost:  0.36622235 - MSE:  0.02689860799362308 - train Accuracy:  0.968349\n",
      "epoch :  219 - cost:  0.36603433 - MSE:  0.026829210255165797 - train Accuracy:  0.96838945\n",
      "epoch :  220 - cost:  0.3658467 - MSE:  0.02676186157696928 - train Accuracy:  0.96844256\n",
      "epoch :  221 - cost:  0.36564934 - MSE:  0.026676998967312255 - train Accuracy:  0.9684881\n",
      "epoch :  222 - cost:  0.36545688 - MSE:  0.026598193980114246 - train Accuracy:  0.96856654\n",
      "epoch :  223 - cost:  0.36526904 - MSE:  0.026527750627229642 - train Accuracy:  0.96865004\n",
      "epoch :  224 - cost:  0.36507976 - MSE:  0.0264486826336111 - train Accuracy:  0.9687766\n",
      "epoch :  225 - cost:  0.36488354 - MSE:  0.02636502522025698 - train Accuracy:  0.9688449\n",
      "epoch :  226 - cost:  0.36304128 - MSE:  0.026096854349307818 - train Accuracy:  0.96884996\n",
      "epoch :  227 - cost:  0.36283877 - MSE:  0.02600931949460174 - train Accuracy:  0.96886766\n",
      "epoch :  228 - cost:  0.3626612 - MSE:  0.025913979461732805 - train Accuracy:  0.96897393\n",
      "epoch :  229 - cost:  0.36248678 - MSE:  0.025823352188430317 - train Accuracy:  0.9690043\n",
      "epoch :  230 - cost:  0.36232156 - MSE:  0.02574919394267187 - train Accuracy:  0.96902704\n",
      "epoch :  231 - cost:  0.36214674 - MSE:  0.025663119320494077 - train Accuracy:  0.969065\n",
      "epoch :  232 - cost:  0.36197108 - MSE:  0.02557134344546803 - train Accuracy:  0.9690726\n",
      "epoch :  233 - cost:  0.36179942 - MSE:  0.025477171100413674 - train Accuracy:  0.9690878\n",
      "epoch :  234 - cost:  0.36163855 - MSE:  0.02538780606018427 - train Accuracy:  0.9691182\n",
      "epoch :  235 - cost:  0.36146468 - MSE:  0.025292158898279484 - train Accuracy:  0.9691485\n",
      "epoch :  236 - cost:  0.36129403 - MSE:  0.02520717818989916 - train Accuracy:  0.96917385\n",
      "epoch :  237 - cost:  0.36112005 - MSE:  0.025107698329976995 - train Accuracy:  0.9691839\n",
      "epoch :  238 - cost:  0.36093986 - MSE:  0.025001222054484344 - train Accuracy:  0.9691991\n",
      "epoch :  239 - cost:  0.36074552 - MSE:  0.02488459673623723 - train Accuracy:  0.96926236\n",
      "epoch :  240 - cost:  0.36052275 - MSE:  0.02472399766254469 - train Accuracy:  0.96930283\n",
      "epoch :  241 - cost:  0.36024588 - MSE:  0.024520872697928554 - train Accuracy:  0.96934843\n",
      "epoch :  242 - cost:  0.35987338 - MSE:  0.02421498728157486 - train Accuracy:  0.96937877\n",
      "epoch :  243 - cost:  0.35963088 - MSE:  0.024057794967583816 - train Accuracy:  0.9694901\n",
      "epoch :  244 - cost:  0.35947272 - MSE:  0.023986338335668447 - train Accuracy:  0.96951795\n",
      "epoch :  245 - cost:  0.35931918 - MSE:  0.02391992581238626 - train Accuracy:  0.9695559\n",
      "epoch :  246 - cost:  0.35916293 - MSE:  0.02384111566442074 - train Accuracy:  0.9696293\n",
      "epoch :  247 - cost:  0.35900602 - MSE:  0.023765464093568757 - train Accuracy:  0.9696419\n",
      "epoch :  248 - cost:  0.3588484 - MSE:  0.023682523990794038 - train Accuracy:  0.9697482\n",
      "epoch :  249 - cost:  0.35863522 - MSE:  0.02357979742005278 - train Accuracy:  0.9698064\n",
      "epoch :  250 - cost:  0.35832253 - MSE:  0.02341793039298233 - train Accuracy:  0.96987975\n",
      "epoch :  251 - cost:  0.35810465 - MSE:  0.02331304538898459 - train Accuracy:  0.9700063\n",
      "epoch :  252 - cost:  0.35796133 - MSE:  0.023249935219513178 - train Accuracy:  0.97004426\n",
      "epoch :  253 - cost:  0.35781848 - MSE:  0.023167468273375284 - train Accuracy:  0.9700771\n",
      "epoch :  254 - cost:  0.35767877 - MSE:  0.023108429978088183 - train Accuracy:  0.97013783\n",
      "epoch :  255 - cost:  0.35754207 - MSE:  0.02305429405141925 - train Accuracy:  0.9769468\n",
      "epoch :  256 - cost:  0.3574037 - MSE:  0.022996789400091883 - train Accuracy:  0.97697717\n",
      "epoch :  257 - cost:  0.35726982 - MSE:  0.022939242532857992 - train Accuracy:  0.97698474\n",
      "epoch :  258 - cost:  0.35713416 - MSE:  0.022871784026517017 - train Accuracy:  0.977005\n",
      "epoch :  259 - cost:  0.35700694 - MSE:  0.02281123316169856 - train Accuracy:  0.97701764\n",
      "epoch :  260 - cost:  0.35688278 - MSE:  0.02275907657913835 - train Accuracy:  0.9770303\n",
      "epoch :  261 - cost:  0.3567588 - MSE:  0.022713461054925502 - train Accuracy:  0.977048\n",
      "epoch :  262 - cost:  0.35664374 - MSE:  0.022666863681760376 - train Accuracy:  0.97706825\n",
      "epoch :  263 - cost:  0.35652304 - MSE:  0.022621579063316962 - train Accuracy:  0.97708595\n",
      "epoch :  264 - cost:  0.35640642 - MSE:  0.022579652399800774 - train Accuracy:  0.9771062\n",
      "epoch :  265 - cost:  0.35627377 - MSE:  0.022536824119123975 - train Accuracy:  0.97713655\n",
      "epoch :  266 - cost:  0.35615715 - MSE:  0.022495958580042417 - train Accuracy:  0.9771315\n",
      "epoch :  267 - cost:  0.35604584 - MSE:  0.02246391042462597 - train Accuracy:  0.97715425\n",
      "epoch :  268 - cost:  0.3559343 - MSE:  0.022417108608282568 - train Accuracy:  0.97716945\n",
      "epoch :  269 - cost:  0.3558232 - MSE:  0.022387473364160804 - train Accuracy:  0.97717196\n",
      "epoch :  270 - cost:  0.35570872 - MSE:  0.02233335195463779 - train Accuracy:  0.97720486\n",
      "epoch :  271 - cost:  0.35558766 - MSE:  0.022285017338676504 - train Accuracy:  0.9772074\n",
      "epoch :  272 - cost:  0.35547072 - MSE:  0.022229711389274445 - train Accuracy:  0.9772251\n",
      "epoch :  273 - cost:  0.35535568 - MSE:  0.0221883706779331 - train Accuracy:  0.97726053\n",
      "epoch :  274 - cost:  0.35524532 - MSE:  0.022147574946155033 - train Accuracy:  0.97725546\n"
     ]
    },
    {
     "name": "stdout",
     "output_type": "stream",
     "text": [
      "epoch :  275 - cost:  0.3551299 - MSE:  0.022098957366583367 - train Accuracy:  0.97728586\n",
      "epoch :  276 - cost:  0.35502267 - MSE:  0.02206031358486158 - train Accuracy:  0.9772833\n",
      "epoch :  277 - cost:  0.35491028 - MSE:  0.022016120534238123 - train Accuracy:  0.9772909\n",
      "epoch :  278 - cost:  0.3548086 - MSE:  0.021981236011303088 - train Accuracy:  0.9772985\n",
      "epoch :  279 - cost:  0.35470513 - MSE:  0.021945837882690968 - train Accuracy:  0.977301\n",
      "epoch :  280 - cost:  0.35459766 - MSE:  0.021904398402500906 - train Accuracy:  0.9773137\n",
      "epoch :  281 - cost:  0.35449287 - MSE:  0.021850645771446714 - train Accuracy:  0.9773491\n",
      "epoch :  282 - cost:  0.3543911 - MSE:  0.02183302241094511 - train Accuracy:  0.9773314\n",
      "epoch :  283 - cost:  0.3542854 - MSE:  0.021780649551068863 - train Accuracy:  0.97734153\n",
      "epoch :  284 - cost:  0.3541876 - MSE:  0.021749896538918113 - train Accuracy:  0.9773491\n",
      "epoch :  285 - cost:  0.3540908 - MSE:  0.02173046843082439 - train Accuracy:  0.97734404\n",
      "epoch :  286 - cost:  0.35399067 - MSE:  0.02167718700027488 - train Accuracy:  0.97754645\n",
      "epoch :  287 - cost:  0.35389516 - MSE:  0.02166000177751465 - train Accuracy:  0.9775591\n",
      "epoch :  288 - cost:  0.35379806 - MSE:  0.021624277988078543 - train Accuracy:  0.9776046\n",
      "epoch :  289 - cost:  0.35370302 - MSE:  0.021591223148221803 - train Accuracy:  0.9776401\n",
      "epoch :  290 - cost:  0.3536081 - MSE:  0.02154659306624511 - train Accuracy:  0.977215\n",
      "epoch :  291 - cost:  0.35351518 - MSE:  0.021526196848228527 - train Accuracy:  0.97722256\n",
      "epoch :  292 - cost:  0.35342264 - MSE:  0.02149402362745052 - train Accuracy:  0.9772251\n",
      "epoch :  293 - cost:  0.35332885 - MSE:  0.021462370772429903 - train Accuracy:  0.9772251\n",
      "epoch :  294 - cost:  0.35323563 - MSE:  0.021433890018591664 - train Accuracy:  0.9772276\n",
      "epoch :  295 - cost:  0.35314408 - MSE:  0.021391196673269094 - train Accuracy:  0.97775644\n",
      "epoch :  296 - cost:  0.3530543 - MSE:  0.0213635520166902 - train Accuracy:  0.9777742\n",
      "epoch :  297 - cost:  0.35296723 - MSE:  0.02134974519456145 - train Accuracy:  0.9777767\n",
      "epoch :  298 - cost:  0.35287467 - MSE:  0.021301194181478147 - train Accuracy:  0.97778684\n",
      "epoch :  299 - cost:  0.35278484 - MSE:  0.021276861028427112 - train Accuracy:  0.9777944\n",
      "epoch :  300 - cost:  0.35269362 - MSE:  0.021250119061789217 - train Accuracy:  0.9777919\n",
      "epoch :  301 - cost:  0.35259718 - MSE:  0.021201043580871843 - train Accuracy:  0.9778121\n",
      "epoch :  302 - cost:  0.35250247 - MSE:  0.0211799577972912 - train Accuracy:  0.9778096\n",
      "epoch :  303 - cost:  0.3524114 - MSE:  0.021140400936319127 - train Accuracy:  0.9778121\n",
      "epoch :  304 - cost:  0.35231283 - MSE:  0.02111630191216269 - train Accuracy:  0.9778121\n",
      "epoch :  305 - cost:  0.352211 - MSE:  0.021071617945556814 - train Accuracy:  0.97781974\n",
      "epoch :  306 - cost:  0.35211208 - MSE:  0.021051002815835957 - train Accuracy:  0.9778172\n",
      "epoch :  307 - cost:  0.35201123 - MSE:  0.02101598288015157 - train Accuracy:  0.97783995\n",
      "epoch :  308 - cost:  0.35190937 - MSE:  0.020989604018188855 - train Accuracy:  0.9778248\n",
      "epoch :  309 - cost:  0.35181087 - MSE:  0.02095607666501765 - train Accuracy:  0.9778096\n",
      "epoch :  310 - cost:  0.35170728 - MSE:  0.020916618189743417 - train Accuracy:  0.9778147\n",
      "epoch :  311 - cost:  0.35158467 - MSE:  0.020901950150545315 - train Accuracy:  0.9778273\n",
      "epoch :  312 - cost:  0.35145426 - MSE:  0.02083410346944548 - train Accuracy:  0.97783995\n",
      "epoch :  313 - cost:  0.35132354 - MSE:  0.020785374530953225 - train Accuracy:  0.9778425\n",
      "epoch :  314 - cost:  0.35108107 - MSE:  0.020650047777659896 - train Accuracy:  0.97769827\n",
      "epoch :  315 - cost:  0.35060674 - MSE:  0.020348203583013102 - train Accuracy:  0.9776426\n",
      "epoch :  316 - cost:  0.3505062 - MSE:  0.020326073445092498 - train Accuracy:  0.9776527\n",
      "epoch :  317 - cost:  0.35044065 - MSE:  0.020302223255816598 - train Accuracy:  0.9776679\n",
      "epoch :  318 - cost:  0.35037422 - MSE:  0.0202955539864895 - train Accuracy:  0.977673\n",
      "epoch :  319 - cost:  0.35030997 - MSE:  0.02029063493042131 - train Accuracy:  0.97767043\n",
      "epoch :  320 - cost:  0.350246 - MSE:  0.02026150344452037 - train Accuracy:  0.97768813\n",
      "epoch :  321 - cost:  0.35018715 - MSE:  0.0202761012164611 - train Accuracy:  0.97767043\n",
      "epoch :  322 - cost:  0.35011983 - MSE:  0.02025464488458989 - train Accuracy:  0.97773623\n",
      "epoch :  323 - cost:  0.3500563 - MSE:  0.0202311166540653 - train Accuracy:  0.97776407\n",
      "epoch :  324 - cost:  0.34999442 - MSE:  0.020230094411073207 - train Accuracy:  0.9777615\n",
      "epoch :  325 - cost:  0.34993222 - MSE:  0.020209550415517263 - train Accuracy:  0.9777742\n",
      "epoch :  326 - cost:  0.3498711 - MSE:  0.020205811485369467 - train Accuracy:  0.977759\n",
      "epoch :  327 - cost:  0.3498125 - MSE:  0.020175098630090614 - train Accuracy:  0.9777615\n",
      "epoch :  328 - cost:  0.3497571 - MSE:  0.020195789499726616 - train Accuracy:  0.97774637\n",
      "epoch :  329 - cost:  0.349693 - MSE:  0.02015888001552472 - train Accuracy:  0.97776914\n",
      "epoch :  330 - cost:  0.34963787 - MSE:  0.020173444591974427 - train Accuracy:  0.9777742\n",
      "epoch :  331 - cost:  0.3488571 - MSE:  0.019312989439554295 - train Accuracy:  0.9789912\n",
      "epoch :  332 - cost:  0.34738833 - MSE:  0.01769529972787464 - train Accuracy:  0.98131907\n",
      "epoch :  333 - cost:  0.3472828 - MSE:  0.017633786214455854 - train Accuracy:  0.98132163\n",
      "epoch :  334 - cost:  0.34718102 - MSE:  0.01755382655174282 - train Accuracy:  0.98132664\n",
      "epoch :  335 - cost:  0.3470684 - MSE:  0.017473957862715914 - train Accuracy:  0.98135704\n",
      "epoch :  336 - cost:  0.34698004 - MSE:  0.01742117550312824 - train Accuracy:  0.9813545\n",
      "epoch :  337 - cost:  0.34691542 - MSE:  0.017401744871342082 - train Accuracy:  0.9813849\n",
      "epoch :  338 - cost:  0.3468943 - MSE:  0.017443073653275756 - train Accuracy:  0.98132664\n",
      "epoch :  339 - cost:  0.3468022 - MSE:  0.017367926181985054 - train Accuracy:  0.9814051\n",
      "epoch :  340 - cost:  0.34670922 - MSE:  0.017333030702384324 - train Accuracy:  0.9814456\n",
      "epoch :  341 - cost:  0.34664178 - MSE:  0.0173091221730008 - train Accuracy:  0.98146075\n",
      "epoch :  342 - cost:  0.34657368 - MSE:  0.017288715067861803 - train Accuracy:  0.9814658\n",
      "epoch :  343 - cost:  0.34650335 - MSE:  0.017262652284045926 - train Accuracy:  0.98149115\n",
      "epoch :  344 - cost:  0.34648624 - MSE:  0.017297435552253826 - train Accuracy:  0.9814456\n",
      "epoch :  345 - cost:  0.3463837 - MSE:  0.01723743727533441 - train Accuracy:  0.9815013\n",
      "epoch :  346 - cost:  0.34631312 - MSE:  0.01720586719234413 - train Accuracy:  0.9815139\n",
      "epoch :  347 - cost:  0.3462469 - MSE:  0.017186002656253117 - train Accuracy:  0.9815215\n",
      "epoch :  348 - cost:  0.34616348 - MSE:  0.017161814155400204 - train Accuracy:  0.9815645\n",
      "epoch :  349 - cost:  0.34614572 - MSE:  0.017185397543920393 - train Accuracy:  0.98146075\n",
      "epoch :  350 - cost:  0.34604678 - MSE:  0.01713955025335783 - train Accuracy:  0.9815569\n",
      "epoch :  351 - cost:  0.34599793 - MSE:  0.017124595689334693 - train Accuracy:  0.9815215\n",
      "epoch :  352 - cost:  0.34600976 - MSE:  0.017216344889002377 - train Accuracy:  0.9815013\n",
      "epoch :  353 - cost:  0.34591764 - MSE:  0.01714294446478808 - train Accuracy:  0.98152655\n",
      "epoch :  354 - cost:  0.34584272 - MSE:  0.017101420162545906 - train Accuracy:  0.9815544\n",
      "epoch :  355 - cost:  0.34576657 - MSE:  0.01709629671906988 - train Accuracy:  0.9815721\n",
      "epoch :  356 - cost:  0.34569633 - MSE:  0.0170682383487668 - train Accuracy:  0.9816176\n",
      "epoch :  357 - cost:  0.34562683 - MSE:  0.017041843626653203 - train Accuracy:  0.9816151\n",
      "epoch :  358 - cost:  0.3455555 - MSE:  0.017001034316469366 - train Accuracy:  0.98166573\n",
      "epoch :  359 - cost:  0.34548488 - MSE:  0.016975290865515417 - train Accuracy:  0.98165053\n",
      "epoch :  360 - cost:  0.34542158 - MSE:  0.016948077341823038 - train Accuracy:  0.98169607\n",
      "epoch :  361 - cost:  0.34536082 - MSE:  0.016928360558632012 - train Accuracy:  0.9817037\n",
      "epoch :  362 - cost:  0.3453061 - MSE:  0.01691141501888618 - train Accuracy:  0.98170877\n",
      "epoch :  363 - cost:  0.34525615 - MSE:  0.01690551219744783 - train Accuracy:  0.98170114\n",
      "epoch :  364 - cost:  0.34520143 - MSE:  0.016891827817250103 - train Accuracy:  0.9816885\n",
      "epoch :  365 - cost:  0.34514618 - MSE:  0.016887687238330333 - train Accuracy:  0.98169607\n"
     ]
    },
    {
     "name": "stdout",
     "output_type": "stream",
     "text": [
      "epoch :  366 - cost:  0.34508863 - MSE:  0.016868774261649917 - train Accuracy:  0.9817037\n",
      "epoch :  367 - cost:  0.34503528 - MSE:  0.016850389572766557 - train Accuracy:  0.9817062\n",
      "epoch :  368 - cost:  0.34498867 - MSE:  0.016856361094546017 - train Accuracy:  0.9817037\n",
      "epoch :  369 - cost:  0.34493116 - MSE:  0.016836008654646024 - train Accuracy:  0.981729\n",
      "epoch :  370 - cost:  0.34487483 - MSE:  0.01681441048275829 - train Accuracy:  0.98173654\n",
      "epoch :  371 - cost:  0.3448229 - MSE:  0.016794431886400667 - train Accuracy:  0.98173404\n",
      "epoch :  372 - cost:  0.34477863 - MSE:  0.01680674026275994 - train Accuracy:  0.98172647\n",
      "epoch :  373 - cost:  0.34472013 - MSE:  0.016776118355037183 - train Accuracy:  0.98178214\n",
      "epoch :  374 - cost:  0.34466782 - MSE:  0.01675983629867133 - train Accuracy:  0.98178214\n",
      "epoch :  375 - cost:  0.34461886 - MSE:  0.016747330403113724 - train Accuracy:  0.98178715\n",
      "epoch :  376 - cost:  0.34456766 - MSE:  0.016727634323006887 - train Accuracy:  0.98180234\n",
      "epoch :  377 - cost:  0.34452042 - MSE:  0.01672800422915964 - train Accuracy:  0.98181\n",
      "epoch :  378 - cost:  0.3444728 - MSE:  0.016716284965462215 - train Accuracy:  0.9818049\n",
      "epoch :  379 - cost:  0.3444244 - MSE:  0.01670047983275321 - train Accuracy:  0.9818226\n",
      "epoch :  380 - cost:  0.34438553 - MSE:  0.016726154869555476 - train Accuracy:  0.98181\n",
      "epoch :  381 - cost:  0.3443293 - MSE:  0.01669951623163403 - train Accuracy:  0.98183274\n",
      "epoch :  382 - cost:  0.34428215 - MSE:  0.016692046222697432 - train Accuracy:  0.98183274\n",
      "epoch :  383 - cost:  0.3442365 - MSE:  0.01668342160627211 - train Accuracy:  0.98183525\n",
      "epoch :  384 - cost:  0.3441905 - MSE:  0.016677445602716067 - train Accuracy:  0.98183525\n",
      "epoch :  385 - cost:  0.34414855 - MSE:  0.016679698644362435 - train Accuracy:  0.9818277\n",
      "epoch :  386 - cost:  0.3441 - MSE:  0.016663545570566277 - train Accuracy:  0.9818378\n",
      "epoch :  387 - cost:  0.34405813 - MSE:  0.016655793520402324 - train Accuracy:  0.98182005\n",
      "epoch :  388 - cost:  0.34401134 - MSE:  0.016655505895633183 - train Accuracy:  0.9818302\n",
      "epoch :  389 - cost:  0.34396097 - MSE:  0.016639075375768066 - train Accuracy:  0.9818454\n",
      "epoch :  390 - cost:  0.34391233 - MSE:  0.016626701556920087 - train Accuracy:  0.98185045\n",
      "epoch :  391 - cost:  0.3438694 - MSE:  0.016618075836587778 - train Accuracy:  0.9818479\n",
      "epoch :  392 - cost:  0.34382388 - MSE:  0.01661334834886098 - train Accuracy:  0.9818403\n",
      "epoch :  393 - cost:  0.34377837 - MSE:  0.016594393331572657 - train Accuracy:  0.9818454\n",
      "epoch :  394 - cost:  0.34373307 - MSE:  0.01657496991192982 - train Accuracy:  0.9818631\n",
      "epoch :  395 - cost:  0.34368885 - MSE:  0.016563096152286145 - train Accuracy:  0.9818732\n",
      "epoch :  396 - cost:  0.34364775 - MSE:  0.016559138702111162 - train Accuracy:  0.9818631\n",
      "epoch :  397 - cost:  0.34360036 - MSE:  0.016543162281698352 - train Accuracy:  0.9818757\n",
      "epoch :  398 - cost:  0.343554 - MSE:  0.016528136900232582 - train Accuracy:  0.9818555\n",
      "epoch :  399 - cost:  0.34350693 - MSE:  0.01653025492963246 - train Accuracy:  0.9818656\n",
      "epoch :  400 - cost:  0.34346431 - MSE:  0.016504801470102196 - train Accuracy:  0.98187065\n",
      "epoch :  401 - cost:  0.343423 - MSE:  0.01651094277026479 - train Accuracy:  0.98188335\n",
      "epoch :  402 - cost:  0.3433794 - MSE:  0.01648797069047793 - train Accuracy:  0.9818884\n",
      "epoch :  403 - cost:  0.34333876 - MSE:  0.016487587049642337 - train Accuracy:  0.98188335\n",
      "epoch :  404 - cost:  0.34329662 - MSE:  0.016468948860329482 - train Accuracy:  0.9818884\n",
      "epoch :  405 - cost:  0.34325334 - MSE:  0.016454511028177216 - train Accuracy:  0.9819061\n",
      "epoch :  406 - cost:  0.34321192 - MSE:  0.016447131204266677 - train Accuracy:  0.98190105\n",
      "epoch :  407 - cost:  0.3431706 - MSE:  0.01643284908483412 - train Accuracy:  0.981896\n",
      "epoch :  408 - cost:  0.34312764 - MSE:  0.016428957924678137 - train Accuracy:  0.9818934\n",
      "epoch :  409 - cost:  0.34308422 - MSE:  0.01641164808603024 - train Accuracy:  0.9819061\n",
      "epoch :  410 - cost:  0.34305513 - MSE:  0.01643345804863141 - train Accuracy:  0.9818884\n",
      "epoch :  411 - cost:  0.34301195 - MSE:  0.016409820838180888 - train Accuracy:  0.9819061\n",
      "epoch :  412 - cost:  0.34296775 - MSE:  0.016386636565326105 - train Accuracy:  0.9819289\n",
      "epoch :  413 - cost:  0.34292 - MSE:  0.01637198789178765 - train Accuracy:  0.981944\n",
      "epoch :  414 - cost:  0.34292686 - MSE:  0.01640742220881866 - train Accuracy:  0.9818302\n",
      "epoch :  415 - cost:  0.3428993 - MSE:  0.016505098561773596 - train Accuracy:  0.9818985\n",
      "epoch :  416 - cost:  0.3428478 - MSE:  0.016465161661540467 - train Accuracy:  0.98190105\n",
      "epoch :  417 - cost:  0.34278762 - MSE:  0.016427309711221347 - train Accuracy:  0.9819491\n",
      "epoch :  418 - cost:  0.34274146 - MSE:  0.016407219244081197 - train Accuracy:  0.98195165\n",
      "epoch :  419 - cost:  0.34270078 - MSE:  0.016392734077008777 - train Accuracy:  0.9819618\n",
      "epoch :  420 - cost:  0.3426605 - MSE:  0.01637549724604285 - train Accuracy:  0.981982\n",
      "epoch :  421 - cost:  0.34262136 - MSE:  0.016369230737710853 - train Accuracy:  0.9819769\n",
      "epoch :  422 - cost:  0.34258473 - MSE:  0.016370709565420548 - train Accuracy:  0.9819744\n",
      "epoch :  423 - cost:  0.34254524 - MSE:  0.016357047078437114 - train Accuracy:  0.9819896\n",
      "epoch :  424 - cost:  0.34251016 - MSE:  0.016347451825995757 - train Accuracy:  0.9819896\n",
      "epoch :  425 - cost:  0.34247264 - MSE:  0.0163615147222975 - train Accuracy:  0.981982\n",
      "epoch :  426 - cost:  0.34243038 - MSE:  0.016345959497202106 - train Accuracy:  0.98200226\n",
      "epoch :  427 - cost:  0.34238985 - MSE:  0.016325643858860116 - train Accuracy:  0.9820098\n",
      "epoch :  428 - cost:  0.34235123 - MSE:  0.016302236398090995 - train Accuracy:  0.9820402\n",
      "epoch :  429 - cost:  0.34231356 - MSE:  0.016286451171649105 - train Accuracy:  0.98204523\n",
      "epoch :  430 - cost:  0.34227613 - MSE:  0.016290038058429074 - train Accuracy:  0.9820503\n",
      "epoch :  431 - cost:  0.34223545 - MSE:  0.016273159880149955 - train Accuracy:  0.98205537\n",
      "epoch :  432 - cost:  0.34219646 - MSE:  0.01625709446193334 - train Accuracy:  0.98207814\n",
      "epoch :  433 - cost:  0.34215918 - MSE:  0.016248697407682155 - train Accuracy:  0.98209584\n",
      "epoch :  434 - cost:  0.34212384 - MSE:  0.016240414841514724 - train Accuracy:  0.98212874\n",
      "epoch :  435 - cost:  0.3420889 - MSE:  0.016236983960795117 - train Accuracy:  0.98212624\n",
      "epoch :  436 - cost:  0.34205374 - MSE:  0.016229394880848902 - train Accuracy:  0.9821313\n",
      "epoch :  437 - cost:  0.34202042 - MSE:  0.016222811835179447 - train Accuracy:  0.98212117\n",
      "epoch :  438 - cost:  0.34198418 - MSE:  0.016230450324199112 - train Accuracy:  0.9821338\n",
      "epoch :  439 - cost:  0.34194747 - MSE:  0.016218935292847736 - train Accuracy:  0.9821515\n",
      "epoch :  440 - cost:  0.34191272 - MSE:  0.016210647067639528 - train Accuracy:  0.98215914\n",
      "epoch :  441 - cost:  0.34187606 - MSE:  0.016198485409597382 - train Accuracy:  0.9821743\n",
      "epoch :  442 - cost:  0.34184158 - MSE:  0.016187285330298215 - train Accuracy:  0.982187\n",
      "epoch :  443 - cost:  0.34180897 - MSE:  0.016180747658954737 - train Accuracy:  0.98217934\n",
      "epoch :  444 - cost:  0.3417768 - MSE:  0.016178882856667413 - train Accuracy:  0.9821819\n",
      "epoch :  445 - cost:  0.3417354 - MSE:  0.016167565026374932 - train Accuracy:  0.98219454\n",
      "epoch :  446 - cost:  0.34169626 - MSE:  0.0161570691902047 - train Accuracy:  0.9822224\n",
      "epoch :  447 - cost:  0.34166178 - MSE:  0.016148266653766823 - train Accuracy:  0.98221225\n",
      "epoch :  448 - cost:  0.3416268 - MSE:  0.016143308901881155 - train Accuracy:  0.9822148\n",
      "epoch :  449 - cost:  0.34159088 - MSE:  0.016131580822133916 - train Accuracy:  0.9822249\n",
      "epoch :  450 - cost:  0.34155804 - MSE:  0.01612418871384993 - train Accuracy:  0.9822249\n",
      "epoch :  451 - cost:  0.3415241 - MSE:  0.016116770015511678 - train Accuracy:  0.9822502\n",
      "epoch :  452 - cost:  0.34148863 - MSE:  0.016107510496587502 - train Accuracy:  0.982273\n",
      "epoch :  453 - cost:  0.34145594 - MSE:  0.0161001324775 - train Accuracy:  0.9822654\n",
      "epoch :  454 - cost:  0.34142327 - MSE:  0.016090583301238543 - train Accuracy:  0.982273\n",
      "epoch :  455 - cost:  0.34139016 - MSE:  0.016081501979761686 - train Accuracy:  0.982273\n",
      "epoch :  456 - cost:  0.34135565 - MSE:  0.016076456436826484 - train Accuracy:  0.98228055\n"
     ]
    },
    {
     "name": "stdout",
     "output_type": "stream",
     "text": [
      "epoch :  457 - cost:  0.3413198 - MSE:  0.016061861636096606 - train Accuracy:  0.98227805\n",
      "epoch :  458 - cost:  0.3412794 - MSE:  0.016042441054566637 - train Accuracy:  0.98231095\n",
      "epoch :  459 - cost:  0.34124494 - MSE:  0.0160345202746265 - train Accuracy:  0.9823211\n",
      "epoch :  460 - cost:  0.34121266 - MSE:  0.0160242065574087 - train Accuracy:  0.9823236\n",
      "epoch :  461 - cost:  0.34118223 - MSE:  0.016020347483624003 - train Accuracy:  0.98231095\n",
      "epoch :  462 - cost:  0.34113723 - MSE:  0.01599698514803712 - train Accuracy:  0.98236156\n",
      "epoch :  463 - cost:  0.34109887 - MSE:  0.015978309017126397 - train Accuracy:  0.98237926\n",
      "epoch :  464 - cost:  0.34106663 - MSE:  0.015968644741141912 - train Accuracy:  0.9823894\n",
      "epoch :  465 - cost:  0.3410342 - MSE:  0.015956188431871115 - train Accuracy:  0.98239696\n",
      "epoch :  466 - cost:  0.34100577 - MSE:  0.01595422144664256 - train Accuracy:  0.982402\n",
      "epoch :  467 - cost:  0.34097087 - MSE:  0.01594229951431713 - train Accuracy:  0.9824071\n",
      "epoch :  468 - cost:  0.340941 - MSE:  0.015944556007705665 - train Accuracy:  0.98241216\n",
      "epoch :  469 - cost:  0.34090853 - MSE:  0.015933693686530134 - train Accuracy:  0.98243237\n",
      "epoch :  470 - cost:  0.34087807 - MSE:  0.015928889438798548 - train Accuracy:  0.9824197\n",
      "epoch :  471 - cost:  0.34084815 - MSE:  0.015923009184456046 - train Accuracy:  0.98244\n",
      "epoch :  472 - cost:  0.34081742 - MSE:  0.015915723047967737 - train Accuracy:  0.98244506\n",
      "epoch :  473 - cost:  0.340787 - MSE:  0.015908011687452858 - train Accuracy:  0.9824425\n",
      "epoch :  474 - cost:  0.34075934 - MSE:  0.015903955436049895 - train Accuracy:  0.9824577\n",
      "epoch :  475 - cost:  0.34072903 - MSE:  0.015894667597112576 - train Accuracy:  0.98246527\n",
      "epoch :  476 - cost:  0.34070194 - MSE:  0.015894600007378863 - train Accuracy:  0.9824602\n",
      "epoch :  477 - cost:  0.3406702 - MSE:  0.015886539979194734 - train Accuracy:  0.9824754\n",
      "epoch :  478 - cost:  0.3406439 - MSE:  0.015887634414936284 - train Accuracy:  0.9824729\n",
      "epoch :  479 - cost:  0.34061232 - MSE:  0.015879489551852276 - train Accuracy:  0.98250324\n",
      "epoch :  480 - cost:  0.34058464 - MSE:  0.01587742881579569 - train Accuracy:  0.98249817\n",
      "epoch :  481 - cost:  0.34055325 - MSE:  0.015867581590178332 - train Accuracy:  0.9825108\n",
      "epoch :  482 - cost:  0.34052968 - MSE:  0.015864949963730217 - train Accuracy:  0.98250324\n",
      "epoch :  483 - cost:  0.34050074 - MSE:  0.015861643868478756 - train Accuracy:  0.98249817\n",
      "epoch :  484 - cost:  0.34047663 - MSE:  0.01586282945324543 - train Accuracy:  0.98250324\n",
      "epoch :  485 - cost:  0.34045088 - MSE:  0.015855041145106986 - train Accuracy:  0.98251337\n",
      "epoch :  486 - cost:  0.3404142 - MSE:  0.015845318212291865 - train Accuracy:  0.98253864\n",
      "epoch :  487 - cost:  0.3403862 - MSE:  0.01583588786220506 - train Accuracy:  0.98254627\n",
      "epoch :  488 - cost:  0.3403621 - MSE:  0.015829823768791516 - train Accuracy:  0.9825437\n",
      "epoch :  489 - cost:  0.34033537 - MSE:  0.015824448115270798 - train Accuracy:  0.9825437\n",
      "epoch :  490 - cost:  0.3403028 - MSE:  0.015821610595198356 - train Accuracy:  0.9825741\n",
      "epoch :  491 - cost:  0.34027714 - MSE:  0.015816703463037762 - train Accuracy:  0.9825994\n",
      "epoch :  492 - cost:  0.34025308 - MSE:  0.015812815376002095 - train Accuracy:  0.9825792\n",
      "epoch :  493 - cost:  0.34022433 - MSE:  0.015812994087044337 - train Accuracy:  0.98260444\n",
      "epoch :  494 - cost:  0.34019724 - MSE:  0.015803202101154008 - train Accuracy:  0.982612\n",
      "epoch :  495 - cost:  0.34016892 - MSE:  0.015803188718219417 - train Accuracy:  0.9826171\n",
      "epoch :  496 - cost:  0.3401428 - MSE:  0.015797532356338045 - train Accuracy:  0.9826247\n",
      "epoch :  497 - cost:  0.34010872 - MSE:  0.015794662068334697 - train Accuracy:  0.9826576\n",
      "epoch :  498 - cost:  0.3400804 - MSE:  0.015787631868173852 - train Accuracy:  0.9826753\n",
      "epoch :  499 - cost:  0.34005088 - MSE:  0.015781852129725694 - train Accuracy:  0.98267275\n",
      "Model saved in file: model\n"
     ]
    }
   ],
   "source": [
    "#calculate the cost and accuracy for each epoch\n",
    "\n",
    "mse_history = []\n",
    "accuracy_history = []\n",
    "\n",
    "for epoch in range(training_epochs):\n",
    "    sess.run(training_step, feed_dict={x:train_x, y_: train_y})\n",
    "    cost = sess.run(cost_function, feed_dict={x:train_x, y_: train_y})\n",
    "    cost_history = np.append(cost_history, cost)\n",
    "    correct_prediction = tf.equal(tf.argmax(y,1), tf.argmax(y_,1))\n",
    "    accuracy = tf.reduce_mean(tf.cast(correct_prediction, tf.float32))\n",
    "    \n",
    "    #print \n",
    "    \n",
    "    pred_y = sess.run(y, feed_dict ={x:test_x})\n",
    "    mse = tf.reduce_mean(tf.square(pred_y - test_y))\n",
    "    mse_ = sess.run(mse)\n",
    "    mse_history.append(mse_)\n",
    "    accuracy = (sess.run(accuracy, feed_dict={x: train_x, y_: train_y}))\n",
    "    accuracy_history.append(accuracy)\n",
    "    \n",
    "    print(\"epoch : \", epoch, \"-\", \"cost: \", cost, \"- MSE: \", mse_, \"- train Accuracy: \", accuracy)\n",
    "    \n",
    "save_path = saver.save(sess, model_path)\n",
    "print(\"Model saved in file: %s\" % save_path)\n",
    "\n"
   ]
  },
  {
   "cell_type": "code",
   "execution_count": 11,
   "id": "a9def82d",
   "metadata": {},
   "outputs": [
    {
     "data": {
      "image/png": "[encoded data removed]",
      "text/plain": [
       "<Figure size 432x288 with 1 Axes>"
      ]
     },
     "metadata": {
      "needs_background": "light"
     },
     "output_type": "display_data"
    }
   ],
   "source": [
    "#plot Accuracy Graph\n",
    "plt.plot(accuracy_history)\n",
    "plt.title(\"Accuracy Graph\")\n",
    "plt.xlabel(\"epoch\")\n",
    "plt.ylabel(\"accuracy\")\n",
    "plt.show()\n",
    "\n",
    "\n"
   ]
  },
  {
   "cell_type": "code",
   "execution_count": 12,
   "id": "c9ca0212",
   "metadata": {},
   "outputs": [
    {
     "data": {
      "image/png": "[encoded data removed]",
      "text/plain": [
       "<Figure size 432x288 with 1 Axes>"
      ]
     },
     "metadata": {
      "needs_background": "light"
     },
     "output_type": "display_data"
    }
   ],
   "source": [
    "#plot Cost Graph\n",
    "plt.plot(cost_history)\n",
    "plt.title(\"Cost Graph\")\n",
    "plt.xlabel(\"epoch\")\n",
    "plt.ylabel(\"cost\")\n",
    "plt.show()\n"
   ]
  },
  {
   "cell_type": "code",
   "execution_count": 13,
   "id": "d568a1da",
   "metadata": {},
   "outputs": [
    {
     "data": {
      "image/png": "[encoded data removed]",
      "text/plain": [
       "<Figure size 432x288 with 1 Axes>"
      ]
     },
     "metadata": {
      "needs_background": "light"
     },
     "output_type": "display_data"
    }
   ],
   "source": [
    "#plot mse Graph\n",
    "plt.plot(mse_history)\n",
    "plt.title(\"mse Graph\")\n",
    "plt.xlabel(\"epoch\")\n",
    "plt.ylabel(\"mse\")\n",
    "plt.show()"
   ]
  },
  {
   "cell_type": "code",
   "execution_count": 14,
   "id": "3cff4397",
   "metadata": {},
   "outputs": [
    {
     "name": "stdout",
     "output_type": "stream",
     "text": [
      "test accuracy:  0.9826323\n"
     ]
    }
   ],
   "source": [
    "#print final accuracy\n",
    "\n",
    "correct_prediction = tf.equal(tf.argmax(y, 1), tf.argmax(y_, 1))\n",
    "accuracy = tf.reduce_mean(tf.cast(correct_prediction, tf.float32))\n",
    "print (\"test accuracy: \", (sess.run(accuracy, feed_dict={x: test_x, y_: test_y})))\n",
    "            \n",
    "                              \n"
   ]
  },
  {
   "cell_type": "code",
   "execution_count": 15,
   "id": "6f7dfe1d",
   "metadata": {},
   "outputs": [
    {
     "name": "stdout",
     "output_type": "stream",
     "text": [
      "Mse: -0.0206\n"
     ]
    }
   ],
   "source": [
    "#print the final mean sq error\n",
    "pred_y = sess.run(y, feed_dict={x:test_x})\n",
    "mse = tf.reduce_mean(tf.square(pred_y) - test_y)                              \n",
    "print (\"Mse: %.4f\" % sess.run(mse)) "
   ]
  },
  {
   "cell_type": "code",
   "execution_count": 16,
   "id": "248181c9",
   "metadata": {},
   "outputs": [
    {
     "data": {
      "text/plain": [
       "array([[0.01264326, 0.9873568 ],\n",
       "       [0.01410539, 0.9858946 ],\n",
       "       [0.9511589 , 0.0488411 ],\n",
       "       ...,\n",
       "       [0.01264326, 0.9873568 ],\n",
       "       [0.01410538, 0.9858947 ],\n",
       "       [0.01264326, 0.9873568 ]], dtype=float32)"
      ]
     },
     "execution_count": 16,
     "metadata": {},
     "output_type": "execute_result"
    }
   ],
   "source": [
    "pred_y"
   ]
  },
  {
   "cell_type": "code",
   "execution_count": 17,
   "id": "722bd286",
   "metadata": {},
   "outputs": [
    {
     "data": {
      "text/plain": [
       "array([[0., 2., 9., ..., 0., 0., 1.],\n",
       "       [0., 2., 9., ..., 0., 0., 1.],\n",
       "       [1., 0., 1., ..., 0., 0., 0.],\n",
       "       ...,\n",
       "       [0., 2., 9., ..., 0., 0., 1.],\n",
       "       [0., 2., 9., ..., 0., 0., 1.],\n",
       "       [0., 2., 9., ..., 0., 0., 1.]])"
      ]
     },
     "execution_count": 17,
     "metadata": {},
     "output_type": "execute_result"
    }
   ],
   "source": [
    "test_x"
   ]
  },
  {
   "cell_type": "code",
   "execution_count": 18,
   "id": "9a11cde6",
   "metadata": {},
   "outputs": [],
   "source": [
    "\n",
    "# Create a summary writer\n",
    "writer = tf.summary.FileWriter(\"logs/\", graph=tf.get_default_graph())\n",
    "writer.close()"
   ]
  },
  {
   "cell_type": "code",
   "execution_count": 19,
   "id": "756177ce",
   "metadata": {},
   "outputs": [],
   "source": [
    "from IPython.display import SVG\n",
    "from keras.utils.vis_utils import model_to_dot\n"
   ]
  },
  {
   "cell_type": "code",
   "execution_count": 20,
   "id": "14d0fd46",
   "metadata": {},
   "outputs": [
    {
     "data": {
      "image/png": "[encoded data removed]",
      "text/plain": [
       "<IPython.core.display.Image object>"
      ]
     },
     "execution_count": 20,
     "metadata": {},
     "output_type": "execute_result"
    }
   ],
   "source": [
    "# Define the model\n",
    "model = tf.keras.models.Sequential()\n",
    "model.add(tf.keras.layers.Dense(n_hidden_1, activation='relu', input_shape=(n_dim,)))\n",
    "model.add(tf.keras.layers.Dense(n_hidden_2, activation='sigmoid'))\n",
    "model.add(tf.keras.layers.Dense(n_hidden_3, activation='softmax'))\n",
    "model.add(tf.keras.layers.Dense(n_class, activation='softmax'))\n",
    "\n",
    "# Save the model to a file\n",
    "tf.keras.utils.plot_model(model, to_file='model.png', show_shapes=True, show_layer_names=True)\n"
   ]
  },
  {
   "cell_type": "code",
   "execution_count": 21,
   "id": "fa7e3f26",
   "metadata": {},
   "outputs": [
    {
     "data": {
      "image/svg+xml": [
       "<svg xmlns=\"http://www.w3.org/2000/svg\" xmlns:xlink=\"http://www.w3.org/1999/xlink\" width=\"275pt\" height=\"449pt\" viewBox=\"0.00 0.00 206.00 337.00\">\n",
       "<g id=\"graph0\" class=\"graph\" transform=\"scale(0.75 0.75) rotate(0) translate(4 333)\">\n",
       "<title>G</title>\n",
       "<polygon fill=\"white\" stroke=\"transparent\" points=\"-4,4 -4,-333 202,-333 202,4 -4,4\"/>\n",
       "<!-- 139817028697584 -->\n",
       "<g id=\"node1\" class=\"node\">\n",
       "<title>139817028697584</title>\n",
       "<polygon fill=\"none\" stroke=\"black\" points=\"0,-292.5 0,-328.5 198,-328.5 198,-292.5 0,-292.5\"/>\n",
       "<text text-anchor=\"middle\" x=\"51.5\" y=\"-306.8\" font-family=\"Times,serif\" font-size=\"14.00\">dense_input</text>\n",
       "<polyline fill=\"none\" stroke=\"black\" points=\"103,-292.5 103,-328.5 \"/>\n",
       "<text text-anchor=\"middle\" x=\"150.5\" y=\"-306.8\" font-family=\"Times,serif\" font-size=\"14.00\">InputLayer</text>\n",
       "</g>\n",
       "<!-- 139817028886784 -->\n",
       "<g id=\"node2\" class=\"node\">\n",
       "<title>139817028886784</title>\n",
       "<polygon fill=\"none\" stroke=\"black\" points=\"39,-219.5 39,-255.5 159,-255.5 159,-219.5 39,-219.5\"/>\n",
       "<text text-anchor=\"middle\" x=\"68.5\" y=\"-233.8\" font-family=\"Times,serif\" font-size=\"14.00\">dense</text>\n",
       "<polyline fill=\"none\" stroke=\"black\" points=\"98,-219.5 98,-255.5 \"/>\n",
       "<text text-anchor=\"middle\" x=\"128.5\" y=\"-233.8\" font-family=\"Times,serif\" font-size=\"14.00\">Dense</text>\n",
       "</g>\n",
       "<!-- 139817028697584&#45;&gt;139817028886784 -->\n",
       "<g id=\"edge1\" class=\"edge\">\n",
       "<title>139817028697584-&gt;139817028886784</title>\n",
       "<path fill=\"none\" stroke=\"black\" d=\"M99,-292.31C99,-284.29 99,-274.55 99,-265.57\"/>\n",
       "<polygon fill=\"black\" stroke=\"black\" points=\"102.5,-265.53 99,-255.53 95.5,-265.53 102.5,-265.53\"/>\n",
       "</g>\n",
       "<!-- 139817028872560 -->\n",
       "<g id=\"node3\" class=\"node\">\n",
       "<title>139817028872560</title>\n",
       "<polygon fill=\"none\" stroke=\"black\" points=\"31.5,-146.5 31.5,-182.5 166.5,-182.5 166.5,-146.5 31.5,-146.5\"/>\n",
       "<text text-anchor=\"middle\" x=\"68.5\" y=\"-160.8\" font-family=\"Times,serif\" font-size=\"14.00\">dense_1</text>\n",
       "<polyline fill=\"none\" stroke=\"black\" points=\"105.5,-146.5 105.5,-182.5 \"/>\n",
       "<text text-anchor=\"middle\" x=\"136\" y=\"-160.8\" font-family=\"Times,serif\" font-size=\"14.00\">Dense</text>\n",
       "</g>\n",
       "<!-- 139817028886784&#45;&gt;139817028872560 -->\n",
       "<g id=\"edge2\" class=\"edge\">\n",
       "<title>139817028886784-&gt;139817028872560</title>\n",
       "<path fill=\"none\" stroke=\"black\" d=\"M99,-219.31C99,-211.29 99,-201.55 99,-192.57\"/>\n",
       "<polygon fill=\"black\" stroke=\"black\" points=\"102.5,-192.53 99,-182.53 95.5,-192.53 102.5,-192.53\"/>\n",
       "</g>\n",
       "<!-- 139817028507440 -->\n",
       "<g id=\"node4\" class=\"node\">\n",
       "<title>139817028507440</title>\n",
       "<polygon fill=\"none\" stroke=\"black\" points=\"31.5,-73.5 31.5,-109.5 166.5,-109.5 166.5,-73.5 31.5,-73.5\"/>\n",
       "<text text-anchor=\"middle\" x=\"68.5\" y=\"-87.8\" font-family=\"Times,serif\" font-size=\"14.00\">dense_2</text>\n",
       "<polyline fill=\"none\" stroke=\"black\" points=\"105.5,-73.5 105.5,-109.5 \"/>\n",
       "<text text-anchor=\"middle\" x=\"136\" y=\"-87.8\" font-family=\"Times,serif\" font-size=\"14.00\">Dense</text>\n",
       "</g>\n",
       "<!-- 139817028872560&#45;&gt;139817028507440 -->\n",
       "<g id=\"edge3\" class=\"edge\">\n",
       "<title>139817028872560-&gt;139817028507440</title>\n",
       "<path fill=\"none\" stroke=\"black\" d=\"M99,-146.31C99,-138.29 99,-128.55 99,-119.57\"/>\n",
       "<polygon fill=\"black\" stroke=\"black\" points=\"102.5,-119.53 99,-109.53 95.5,-119.53 102.5,-119.53\"/>\n",
       "</g>\n",
       "<!-- 139817028508832 -->\n",
       "<g id=\"node5\" class=\"node\">\n",
       "<title>139817028508832</title>\n",
       "<polygon fill=\"none\" stroke=\"black\" points=\"31.5,-0.5 31.5,-36.5 166.5,-36.5 166.5,-0.5 31.5,-0.5\"/>\n",
       "<text text-anchor=\"middle\" x=\"68.5\" y=\"-14.8\" font-family=\"Times,serif\" font-size=\"14.00\">dense_3</text>\n",
       "<polyline fill=\"none\" stroke=\"black\" points=\"105.5,-0.5 105.5,-36.5 \"/>\n",
       "<text text-anchor=\"middle\" x=\"136\" y=\"-14.8\" font-family=\"Times,serif\" font-size=\"14.00\">Dense</text>\n",
       "</g>\n",
       "<!-- 139817028507440&#45;&gt;139817028508832 -->\n",
       "<g id=\"edge4\" class=\"edge\">\n",
       "<title>139817028507440-&gt;139817028508832</title>\n",
       "<path fill=\"none\" stroke=\"black\" d=\"M99,-73.31C99,-65.29 99,-55.55 99,-46.57\"/>\n",
       "<polygon fill=\"black\" stroke=\"black\" points=\"102.5,-46.53 99,-36.53 95.5,-46.53 102.5,-46.53\"/>\n",
       "</g>\n",
       "</g>\n",
       "</svg>"
      ],
      "text/plain": [
       "<IPython.core.display.SVG object>"
      ]
     },
     "execution_count": 21,
     "metadata": {},
     "output_type": "execute_result"
    }
   ],
   "source": [
    "# Display the model image\n",
    "SVG(model_to_dot(model).create(prog='dot', format='svg'))"
   ]
  },
  {
   "cell_type": "code",
   "execution_count": null,
   "id": "97fb7e5d",
   "metadata": {},
   "outputs": [],
   "source": []
  }
 ],
 "metadata": {
  "kernelspec": {
   "display_name": "Python 3 (ipykernel)",
   "language": "python",
   "name": "python3"
  },
  "language_info": {
   "codemirror_mode": {
    "name": "ipython",
    "version": 3
   },
   "file_extension": ".py",
   "mimetype": "text/x-python",
   "name": "python",
   "nbconvert_exporter": "python",
   "pygments_lexer": "ipython3",
   "version": "3.9.7"
  }
 },
 "nbformat": 4,
 "nbformat_minor": 5
}
