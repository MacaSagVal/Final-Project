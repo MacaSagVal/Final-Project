{
 "cells": [
  {
   "cell_type": "code",
   "execution_count": 1,
   "id": "0a5a3c56",
   "metadata": {},
   "outputs": [
    {
     "name": "stderr",
     "output_type": "stream",
     "text": [
      "2023-03-16 10:36:44.659778: I tensorflow/core/platform/cpu_feature_guard.cc:193] This TensorFlow binary is optimized with oneAPI Deep Neural Network Library (oneDNN) to use the following CPU instructions in performance-critical operations:  AVX2 AVX512F AVX512_VNNI FMA\n",
      "To enable them in other operations, rebuild TensorFlow with the appropriate compiler flags.\n",
      "2023-03-16 10:36:44.843000: I tensorflow/core/util/port.cc:104] oneDNN custom operations are on. You may see slightly different numerical results due to floating-point round-off errors from different computation orders. To turn them off, set the environment variable `TF_ENABLE_ONEDNN_OPTS=0`.\n",
      "2023-03-16 10:36:44.870599: W tensorflow/compiler/xla/stream_executor/platform/default/dso_loader.cc:64] Could not load dynamic library 'libcudart.so.11.0'; dlerror: libcudart.so.11.0: cannot open shared object file: No such file or directory\n",
      "2023-03-16 10:36:44.870610: I tensorflow/compiler/xla/stream_executor/cuda/cudart_stub.cc:29] Ignore above cudart dlerror if you do not have a GPU set up on your machine.\n",
      "2023-03-16 10:36:45.597026: W tensorflow/compiler/xla/stream_executor/platform/default/dso_loader.cc:64] Could not load dynamic library 'libnvinfer.so.7'; dlerror: libnvinfer.so.7: cannot open shared object file: No such file or directory\n",
      "2023-03-16 10:36:45.597098: W tensorflow/compiler/xla/stream_executor/platform/default/dso_loader.cc:64] Could not load dynamic library 'libnvinfer_plugin.so.7'; dlerror: libnvinfer_plugin.so.7: cannot open shared object file: No such file or directory\n",
      "2023-03-16 10:36:45.597102: W tensorflow/compiler/tf2tensorrt/utils/py_utils.cc:38] TF-TRT Warning: Cannot dlopen some TensorRT libraries. If you would like to use Nvidia GPU with TensorRT, please make sure the missing libraries mentioned above are installed properly.\n"
     ]
    },
    {
     "name": "stdout",
     "output_type": "stream",
     "text": [
      "WARNING:tensorflow:From /home/maca/anaconda3/lib/python3.9/site-packages/tensorflow/python/compat/v2_compat.py:107: disable_resource_variables (from tensorflow.python.ops.variable_scope) is deprecated and will be removed in a future version.\n",
      "Instructions for updating:\n",
      "non-resource variables are not supported in the long term\n",
      "(494020, 42)\n",
      "(494020, 2)\n",
      "(395216, 42)\n",
      "(395216, 2)\n",
      "(98804, 42)\n",
      "(98804, 2)\n",
      "n_dim 42\n",
      "(?, 2)\n"
     ]
    },
    {
     "name": "stderr",
     "output_type": "stream",
     "text": [
      "2023-03-16 10:36:47.259389: I tensorflow/compiler/xla/stream_executor/cuda/cuda_gpu_executor.cc:981] successful NUMA node read from SysFS had negative value (-1), but there must be at least one NUMA node, so returning NUMA node zero\n",
      "2023-03-16 10:36:47.259505: W tensorflow/compiler/xla/stream_executor/platform/default/dso_loader.cc:64] Could not load dynamic library 'libcudart.so.11.0'; dlerror: libcudart.so.11.0: cannot open shared object file: No such file or directory\n",
      "2023-03-16 10:36:47.259767: W tensorflow/compiler/xla/stream_executor/platform/default/dso_loader.cc:64] Could not load dynamic library 'libcublas.so.11'; dlerror: libcublas.so.11: cannot open shared object file: No such file or directory\n",
      "2023-03-16 10:36:47.259799: W tensorflow/compiler/xla/stream_executor/platform/default/dso_loader.cc:64] Could not load dynamic library 'libcublasLt.so.11'; dlerror: libcublasLt.so.11: cannot open shared object file: No such file or directory\n",
      "2023-03-16 10:36:47.259926: W tensorflow/compiler/xla/stream_executor/platform/default/dso_loader.cc:64] Could not load dynamic library 'libcufft.so.10'; dlerror: libcufft.so.10: cannot open shared object file: No such file or directory\n",
      "2023-03-16 10:36:47.259955: W tensorflow/compiler/xla/stream_executor/platform/default/dso_loader.cc:64] Could not load dynamic library 'libcurand.so.10'; dlerror: libcurand.so.10: cannot open shared object file: No such file or directory\n",
      "2023-03-16 10:36:47.260013: W tensorflow/compiler/xla/stream_executor/platform/default/dso_loader.cc:64] Could not load dynamic library 'libcusolver.so.11'; dlerror: libcusolver.so.11: cannot open shared object file: No such file or directory\n",
      "2023-03-16 10:36:47.260145: W tensorflow/compiler/xla/stream_executor/platform/default/dso_loader.cc:64] Could not load dynamic library 'libcusparse.so.11'; dlerror: libcusparse.so.11: cannot open shared object file: No such file or directory\n",
      "2023-03-16 10:36:47.260175: W tensorflow/compiler/xla/stream_executor/platform/default/dso_loader.cc:64] Could not load dynamic library 'libcudnn.so.8'; dlerror: libcudnn.so.8: cannot open shared object file: No such file or directory\n",
      "2023-03-16 10:36:47.260179: W tensorflow/core/common_runtime/gpu/gpu_device.cc:1934] Cannot dlopen some GPU libraries. Please make sure the missing libraries mentioned above are installed properly if you would like to use GPU. Follow the guide at https://www.tensorflow.org/install/gpu for how to download and setup the required libraries for your platform.\n",
      "Skipping registering GPU devices...\n",
      "2023-03-16 10:36:47.260763: I tensorflow/core/platform/cpu_feature_guard.cc:193] This TensorFlow binary is optimized with oneAPI Deep Neural Network Library (oneDNN) to use the following CPU instructions in performance-critical operations:  AVX2 AVX512F AVX512_VNNI FMA\n",
      "To enable them in other operations, rebuild TensorFlow with the appropriate compiler flags.\n",
      "2023-03-16 10:36:47.264481: I tensorflow/compiler/mlir/mlir_graph_optimization_pass.cc:357] MLIR V1 optimization pass is not enabled\n"
     ]
    },
    {
     "name": "stdout",
     "output_type": "stream",
     "text": [
      "epoch :  0 - cost:  0.97289354 - MSE:  0.5976933982594967 - train Accuracy:  0.19660388\n",
      "epoch :  1 - cost:  0.95367515 - MSE:  0.5726692091011548 - train Accuracy:  0.19660388\n",
      "epoch :  2 - cost:  0.9382007 - MSE:  0.5522401363667522 - train Accuracy:  0.19660388\n",
      "epoch :  3 - cost:  0.92110986 - MSE:  0.5298892528176755 - train Accuracy:  0.19660388\n",
      "epoch :  4 - cost:  0.90229017 - MSE:  0.505551371779742 - train Accuracy:  0.19660388\n",
      "epoch :  5 - cost:  0.88166124 - MSE:  0.4792316349432366 - train Accuracy:  0.19660388\n",
      "epoch :  6 - cost:  0.85958886 - MSE:  0.4514878209285261 - train Accuracy:  0.19660388\n",
      "epoch :  7 - cost:  0.83659095 - MSE:  0.42302168955983366 - train Accuracy:  0.19660388\n",
      "epoch :  8 - cost:  0.8126621 - MSE:  0.39391232642078455 - train Accuracy:  0.19660388\n",
      "epoch :  9 - cost:  0.7881308 - MSE:  0.36464034729227807 - train Accuracy:  0.19902028\n",
      "epoch :  10 - cost:  0.76337606 - MSE:  0.3357712233943483 - train Accuracy:  0.39173517\n",
      "epoch :  11 - cost:  0.7388032 - MSE:  0.3078604327725331 - train Accuracy:  0.50183445\n",
      "epoch :  12 - cost:  0.71486044 - MSE:  0.2814248035750196 - train Accuracy:  0.49352506\n",
      "epoch :  13 - cost:  0.6919623 - MSE:  0.2569415894639405 - train Accuracy:  0.4911947\n",
      "epoch :  14 - cost:  0.6703506 - MSE:  0.23462680263940444 - train Accuracy:  0.48772064\n",
      "epoch :  15 - cost:  0.6503619 - MSE:  0.2147959690510403 - train Accuracy:  0.481271\n",
      "epoch :  16 - cost:  0.6321776 - MSE:  0.19748233252069167 - train Accuracy:  0.4688803\n",
      "epoch :  17 - cost:  0.6157765 - MSE:  0.1826108941066606 - train Accuracy:  0.92256135\n",
      "epoch :  18 - cost:  0.60106117 - MSE:  0.16994293669993968 - train Accuracy:  0.9198666\n",
      "epoch :  19 - cost:  0.5880811 - MSE:  0.15936797619323156 - train Accuracy:  0.916509\n",
      "epoch :  20 - cost:  0.5766282 - MSE:  0.15057358748096852 - train Accuracy:  0.90143615\n",
      "epoch :  21 - cost:  0.5663983 - MSE:  0.14313096662176844 - train Accuracy:  0.8927169\n",
      "epoch :  22 - cost:  0.5573113 - MSE:  0.1369039283140999 - train Accuracy:  0.8916238\n",
      "epoch :  23 - cost:  0.549413 - MSE:  0.13188449550070208 - train Accuracy:  0.89099634\n",
      "epoch :  24 - cost:  0.54243445 - MSE:  0.12781722184391842 - train Accuracy:  0.8824643\n",
      "epoch :  25 - cost:  0.53621227 - MSE:  0.12438702535618781 - train Accuracy:  0.88242126\n",
      "epoch :  26 - cost:  0.53063244 - MSE:  0.12153882907867435 - train Accuracy:  0.865299\n",
      "epoch :  27 - cost:  0.5256925 - MSE:  0.11918063509124528 - train Accuracy:  0.86507124\n",
      "epoch :  28 - cost:  0.5212544 - MSE:  0.1172202642149087 - train Accuracy:  0.8548085\n",
      "epoch :  29 - cost:  0.5172475 - MSE:  0.11558608443963843 - train Accuracy:  0.85577506\n",
      "epoch :  30 - cost:  0.5135559 - MSE:  0.11415701043784696 - train Accuracy:  0.8576298\n",
      "epoch :  31 - cost:  0.5102428 - MSE:  0.11300778503456356 - train Accuracy:  0.8588291\n",
      "epoch :  32 - cost:  0.50718135 - MSE:  0.11199098206926178 - train Accuracy:  0.86028147\n",
      "epoch :  33 - cost:  0.5043605 - MSE:  0.11109139099461854 - train Accuracy:  0.86149347\n",
      "epoch :  34 - cost:  0.50174886 - MSE:  0.11028093229141823 - train Accuracy:  0.8627156\n",
      "epoch :  35 - cost:  0.4992563 - MSE:  0.10946892245217556 - train Accuracy:  0.86437035\n",
      "epoch :  36 - cost:  0.49680486 - MSE:  0.10856531522408831 - train Accuracy:  0.86537486\n",
      "epoch :  37 - cost:  0.4943941 - MSE:  0.10759131498587976 - train Accuracy:  0.8661011\n",
      "epoch :  38 - cost:  0.4922529 - MSE:  0.10689197181412534 - train Accuracy:  0.86728525\n",
      "epoch :  39 - cost:  0.49007338 - MSE:  0.10603244544461 - train Accuracy:  0.8679633\n",
      "epoch :  40 - cost:  0.4880442 - MSE:  0.10519441222388622 - train Accuracy:  0.86886156\n",
      "epoch :  41 - cost:  0.48600963 - MSE:  0.10426773107588629 - train Accuracy:  0.8697674\n",
      "epoch :  42 - cost:  0.4839994 - MSE:  0.10330675014982169 - train Accuracy:  0.8705391\n",
      "epoch :  43 - cost:  0.4823506 - MSE:  0.10271220454053984 - train Accuracy:  0.87157404\n",
      "epoch :  44 - cost:  0.48080048 - MSE:  0.10213563347567026 - train Accuracy:  0.8727506\n",
      "epoch :  45 - cost:  0.47930187 - MSE:  0.1015719055898349 - train Accuracy:  0.873955\n",
      "epoch :  46 - cost:  0.47788593 - MSE:  0.10103547490702108 - train Accuracy:  0.8748482\n",
      "epoch :  47 - cost:  0.47650644 - MSE:  0.10052928536786555 - train Accuracy:  0.8758021\n",
      "epoch :  48 - cost:  0.47515872 - MSE:  0.10001056586288432 - train Accuracy:  0.87670034\n",
      "epoch :  49 - cost:  0.47380945 - MSE:  0.09939570363552201 - train Accuracy:  0.8776795\n",
      "epoch :  50 - cost:  0.4724762 - MSE:  0.09877726340512114 - train Accuracy:  0.878889\n",
      "epoch :  51 - cost:  0.47120276 - MSE:  0.09818731751451187 - train Accuracy:  0.8797088\n",
      "epoch :  52 - cost:  0.46990767 - MSE:  0.09751134795550967 - train Accuracy:  0.8807513\n",
      "epoch :  53 - cost:  0.46863884 - MSE:  0.0968301384751329 - train Accuracy:  0.88171023\n",
      "epoch :  54 - cost:  0.4673841 - MSE:  0.09615129702115263 - train Accuracy:  0.8826338\n",
      "epoch :  55 - cost:  0.46615428 - MSE:  0.09545416222185575 - train Accuracy:  0.8834865\n",
      "epoch :  56 - cost:  0.46501446 - MSE:  0.09483195686234837 - train Accuracy:  0.88411653\n",
      "epoch :  57 - cost:  0.46388498 - MSE:  0.094205053032267 - train Accuracy:  0.88464534\n",
      "epoch :  58 - cost:  0.46271446 - MSE:  0.09351989684871988 - train Accuracy:  0.8854753\n",
      "epoch :  59 - cost:  0.46166077 - MSE:  0.09292574424310299 - train Accuracy:  0.88594085\n",
      "epoch :  60 - cost:  0.46059564 - MSE:  0.09230714477202967 - train Accuracy:  0.8862546\n",
      "epoch :  61 - cost:  0.4595059 - MSE:  0.09161161578533732 - train Accuracy:  0.8868315\n",
      "epoch :  62 - cost:  0.458506 - MSE:  0.09102552479188916 - train Accuracy:  0.8872161\n",
      "epoch :  63 - cost:  0.45738402 - MSE:  0.09030359416985113 - train Accuracy:  0.8879347\n",
      "epoch :  64 - cost:  0.45628357 - MSE:  0.08953012316116887 - train Accuracy:  0.88881016\n",
      "epoch :  65 - cost:  0.45532596 - MSE:  0.08890691575030243 - train Accuracy:  0.8890404\n",
      "epoch :  66 - cost:  0.4543319 - MSE:  0.08824638752706555 - train Accuracy:  0.88944525\n",
      "epoch :  67 - cost:  0.45332024 - MSE:  0.08751185088166286 - train Accuracy:  0.8898982\n",
      "epoch :  68 - cost:  0.4523116 - MSE:  0.08680600343168095 - train Accuracy:  0.8903056\n",
      "epoch :  69 - cost:  0.45135707 - MSE:  0.08616518053723275 - train Accuracy:  0.89077115\n",
      "epoch :  70 - cost:  0.45037928 - MSE:  0.08546314439713741 - train Accuracy:  0.8910242\n",
      "epoch :  71 - cost:  0.4494025 - MSE:  0.08474903374348274 - train Accuracy:  0.8913784\n",
      "epoch :  72 - cost:  0.44848844 - MSE:  0.08407682836180988 - train Accuracy:  0.8915504\n",
      "epoch :  73 - cost:  0.44752446 - MSE:  0.08335230503517649 - train Accuracy:  0.89196795\n",
      "epoch :  74 - cost:  0.44660175 - MSE:  0.08263922371683768 - train Accuracy:  0.89229685\n",
      "epoch :  75 - cost:  0.44572917 - MSE:  0.08198761459805474 - train Accuracy:  0.89255494\n",
      "epoch :  76 - cost:  0.44490984 - MSE:  0.08142198731252326 - train Accuracy:  0.892598\n",
      "epoch :  77 - cost:  0.4440035 - MSE:  0.080778064199559 - train Accuracy:  0.89288896\n",
      "epoch :  78 - cost:  0.4431241 - MSE:  0.08011305797202152 - train Accuracy:  0.8931066\n",
      "epoch :  79 - cost:  0.44221562 - MSE:  0.07941564853559926 - train Accuracy:  0.90197766\n",
      "epoch :  80 - cost:  0.4413255 - MSE:  0.07873955057723818 - train Accuracy:  0.9022079\n",
      "epoch :  81 - cost:  0.440443 - MSE:  0.07805292753797641 - train Accuracy:  0.90244573\n",
      "epoch :  82 - cost:  0.43954465 - MSE:  0.07734048572340069 - train Accuracy:  0.9027165\n",
      "epoch :  83 - cost:  0.43861145 - MSE:  0.0765865170220281 - train Accuracy:  0.9030808\n",
      "epoch :  84 - cost:  0.4376404 - MSE:  0.07577294097126355 - train Accuracy:  0.90322506\n",
      "epoch :  85 - cost:  0.43665373 - MSE:  0.07491814261753735 - train Accuracy:  0.90348065\n",
      "epoch :  86 - cost:  0.43565473 - MSE:  0.07406060233452287 - train Accuracy:  0.9037438\n",
      "epoch :  87 - cost:  0.43475702 - MSE:  0.07331134108679715 - train Accuracy:  0.90396136\n",
      "epoch :  88 - cost:  0.43391693 - MSE:  0.07262910829026416 - train Accuracy:  0.90418404\n",
      "epoch :  89 - cost:  0.43312305 - MSE:  0.07199328639872798 - train Accuracy:  0.90399176\n",
      "epoch :  90 - cost:  0.43224078 - MSE:  0.07126154848613002 - train Accuracy:  0.9042245\n",
      "epoch :  91 - cost:  0.43134016 - MSE:  0.07054639195515268 - train Accuracy:  0.90452814\n",
      "epoch :  92 - cost:  0.43047777 - MSE:  0.0698409497825141 - train Accuracy:  0.9163521\n"
     ]
    },
    {
     "name": "stdout",
     "output_type": "stream",
     "text": [
      "epoch :  93 - cost:  0.4296246 - MSE:  0.06914231050748985 - train Accuracy:  0.9169821\n",
      "epoch :  94 - cost:  0.4287687 - MSE:  0.06841577152163308 - train Accuracy:  0.9173414\n",
      "epoch :  95 - cost:  0.42792153 - MSE:  0.06772575805047411 - train Accuracy:  0.91766274\n",
      "epoch :  96 - cost:  0.4270468 - MSE:  0.06700459784293994 - train Accuracy:  0.9180347\n",
      "epoch :  97 - cost:  0.4262805 - MSE:  0.06639053768181329 - train Accuracy:  0.9184016\n",
      "epoch :  98 - cost:  0.42541468 - MSE:  0.06567895208362148 - train Accuracy:  0.92076737\n",
      "epoch :  99 - cost:  0.4245347 - MSE:  0.0649623778176731 - train Accuracy:  0.92110646\n",
      "Model saved in file: model\n"
     ]
    }
   ],
   "source": [
    "\n",
    "import numpy as np # used for handling numbers\n",
    "import pandas as pd # used for handling the dataset\n",
    "from sklearn.impute import SimpleImputer # used for handling missing data\n",
    "from sklearn.preprocessing import LabelEncoder, OneHotEncoder # used for encoding categorical data\n",
    "from sklearn.model_selection import train_test_split # used for splitting training and testing data\n",
    "from sklearn.preprocessing import StandardScaler # used for feature scaling\n",
    "\n",
    "\n",
    "\n",
    "import matplotlib.pyplot as plt\n",
    "import tensorflow.compat.v1 as tf\n",
    "tf.disable_v2_behavior()\n",
    "from sklearn.utils import shuffle\n",
    "\n",
    "\n",
    "\n",
    "from sklearn.model_selection import KFold\n",
    "from sklearn.neighbors import KNeighborsClassifier\n",
    "from sklearn.metrics import mean_absolute_error\n",
    "\n",
    "\n",
    "\n",
    "#reading the dataset\n",
    "df = pd.read_csv('10_data_trimed_attack_noAttack.csv')\n",
    "\n",
    "def read_dataset():\n",
    "    #print\n",
    "    X = df[df.columns[0:42]].values\n",
    "    y = df[df.columns[41]]\n",
    "    \n",
    "    \n",
    "    #encode the dependant variable\n",
    "    Y = one_hot_encode(y)\n",
    "    print(X.shape)\n",
    "    print(Y.shape)\n",
    "    return(X,Y)\n",
    "\n",
    "#define one-hot-encoder function\n",
    "def one_hot_encode(labels):\n",
    "    n_labels = len(labels)\n",
    "    n_unique_labels = len(np.unique(labels))\n",
    "    one_hot_encode = np.zeros((n_labels, n_unique_labels))\n",
    "    one_hot_encode[np.arange(n_labels), labels] = 1\n",
    "    return one_hot_encode\n",
    "\n",
    "#Read the dataset\n",
    "X, Y = read_dataset()\n",
    "\n",
    "#shufffle the dataset to mix up the rows\n",
    "X,Y = shuffle(X, Y,random_state = 1)\n",
    "\n",
    "#dataset into train & test \n",
    "train_x, test_x, train_y, test_y = train_test_split(X, Y, test_size = 0.20, random_state=415)\n",
    "\n",
    "#shapes of the training and testing\n",
    "print(train_x.shape)\n",
    "print(train_y.shape)\n",
    "print(test_x.shape)\n",
    "print(test_y.shape)\n",
    "\n",
    "#define the important parameters and variables to work with the tensors\n",
    "initial_learning_rate = 0.3\n",
    "decay_steps = 10000\n",
    "decay_rate = 0.96\n",
    "training_epochs = 100\n",
    "cost_history = np.empty(shape=[1], dtype=float)\n",
    "n_dim = X.shape[1]\n",
    "print(\"n_dim\", n_dim)\n",
    "n_class = 2\n",
    "model_path = \"model\"\n",
    "\n",
    "#define the number of hidden layers and number of neurons for each layer\n",
    "n_hidden_1 = 20\n",
    "n_hidden_2 = 20\n",
    "n_hidden_3 = 20\n",
    "\n",
    "global_step = tf.Variable(0, trainable=False)\n",
    "learning_rate = tf.train.exponential_decay(initial_learning_rate, global_step, decay_steps, decay_rate)\n",
    "\n",
    "x = tf.placeholder(tf.float32, [None, n_dim])\n",
    "W = tf.Variable(tf.zeros([n_dim, n_class]))\n",
    "b = tf.Variable(tf.zeros([n_class]))\n",
    "y_ = tf.placeholder(tf.float32, [None, n_class])\n",
    "\n",
    "\n",
    "#define the model\n",
    "\n",
    "def attack_finder(x, weights, biases):\n",
    "    \n",
    "    #RELU activation function\n",
    "    layer_1 = tf.add(tf.matmul(x, weights[\"h1\"]), biases[\"b1\"])\n",
    "    layer_1 = tf.nn.relu(layer_1)\n",
    "    \n",
    "    #sigmoid activation function\n",
    "    layer_2 = tf.add(tf.matmul(layer_1, weights[\"h2\"]), biases[\"b2\"])\n",
    "    layer_2 = tf.nn.sigmoid(layer_2)\n",
    "     \n",
    "    #softmax activation function\n",
    "    layer_3 = tf.add(tf.matmul(layer_2, weights[\"h3\"]), biases[\"b3\"])\n",
    "    layer_3 = tf.nn.softmax(layer_3)\n",
    "    \n",
    "    #outer layer relu activation function\n",
    "    out_layer = tf.add(tf.matmul(layer_3, weights[\"out\"]), biases[\"out\"])\n",
    "    out_layer = tf.nn.softmax(out_layer)\n",
    "    \n",
    "    return out_layer\n",
    "\n",
    "\n",
    "#Define the weights and biases for each layer\n",
    "\n",
    "weights = {\n",
    "    \"h1\" : tf.Variable(tf.truncated_normal([n_dim, n_hidden_1])),\n",
    "    \"h2\" : tf.Variable(tf.truncated_normal([n_hidden_1, n_hidden_2])),\n",
    "    \"h3\" : tf.Variable(tf.truncated_normal([n_hidden_2, n_hidden_3])),\n",
    "    \"out\" : tf.Variable(tf.truncated_normal([n_hidden_3, n_class]))\n",
    "}\n",
    "biases = {\n",
    "    \"b1\" : tf.Variable(tf.truncated_normal([n_hidden_1])),\n",
    "    \"b2\" : tf.Variable(tf.truncated_normal([n_hidden_2])),\n",
    "    \"b3\" : tf.Variable(tf.truncated_normal([n_hidden_3])),\n",
    "    \"out\" : tf.Variable(tf.truncated_normal([n_class]))\n",
    "}\n",
    "\n",
    "\n",
    "# Initialize all the variables\n",
    "init = tf.global_variables_initializer()\n",
    "saver = tf.train.Saver()\n",
    "\n",
    "# Call your model defined\n",
    "y = attack_finder(x, weights, biases)\n",
    "\n",
    "print(y_.shape)\n",
    "\n",
    "\n",
    "#define the cost function and optimizer\n",
    "cost_function = tf.reduce_mean(tf.nn.softmax_cross_entropy_with_logits_v2(logits=y, labels=y_))\n",
    "training_step = tf.train.GradientDescentOptimizer(learning_rate).minimize(cost_function, global_step=global_step)\n",
    "\n",
    "sess = tf.Session()\n",
    "sess.run(init)\n",
    "\n",
    "\n",
    "#calculate the cost and accuracy for each epoch\n",
    "\n",
    "mse_history = []\n",
    "accuracy_history = []\n",
    "\n",
    "for epoch in range(training_epochs):\n",
    "    sess.run(training_step, feed_dict={x:train_x, y_: train_y})\n",
    "    cost = sess.run(cost_function, feed_dict={x:train_x, y_: train_y})\n",
    "    cost_history = np.append(cost_history, cost)\n",
    "    correct_prediction = tf.equal(tf.argmax(y,1), tf.argmax(y_,1))\n",
    "    accuracy = tf.reduce_mean(tf.cast(correct_prediction, tf.float32))\n",
    "    current_accuracy = sess.run(accuracy, feed_dict={x:test_x, y_: test_y})\n",
    "    accuracy_history.append(current_accuracy)\n",
    "    \n",
    "    #print \n",
    "    \n",
    "    pred_y = sess.run(y, feed_dict ={x:test_x})\n",
    "    mse = tf.reduce_mean(tf.square(pred_y - test_y))\n",
    "    mse_ = sess.run(mse)\n",
    "    mse_history.append(mse_)\n",
    "    accuracy = (sess.run(accuracy, feed_dict={x: train_x, y_: train_y}))\n",
    "    accuracy_history.append(accuracy)\n",
    "    \n",
    "    print(\"epoch : \", epoch, \"-\", \"cost: \", cost, \"- MSE: \", mse_, \"- train Accuracy: \", accuracy)\n",
    "    \n",
    "save_path = saver.save(sess, model_path)\n",
    "print(\"Model saved in file: %s\" % save_path)\n",
    "\n"
   ]
  },
  {
   "cell_type": "code",
   "execution_count": 2,
   "id": "a9def82d",
   "metadata": {},
   "outputs": [
    {
     "data": {
      "image/png": "[encoded data removed]",
      "text/plain": [
       "<Figure size 432x288 with 1 Axes>"
      ]
     },
     "metadata": {
      "needs_background": "light"
     },
     "output_type": "display_data"
    }
   ],
   "source": [
    "#plot Accuracy Graph\n",
    "plt.plot(accuracy_history)\n",
    "plt.title(\"Accuracy Graph\")\n",
    "plt.xlabel(\"epoch\")\n",
    "plt.ylabel(\"accuracy\")\n",
    "plt.show()\n",
    "\n",
    "\n"
   ]
  },
  {
   "cell_type": "code",
   "execution_count": 3,
   "id": "c9ca0212",
   "metadata": {},
   "outputs": [
    {
     "data": {
      "image/png": "[encoded data removed]",
      "text/plain": [
       "<Figure size 432x288 with 1 Axes>"
      ]
     },
     "metadata": {
      "needs_background": "light"
     },
     "output_type": "display_data"
    }
   ],
   "source": [
    "#plot Cost Graph\n",
    "plt.plot(cost_history)\n",
    "plt.title(\"Cost Graph\")\n",
    "plt.xlabel(\"epoch\")\n",
    "plt.ylabel(\"cost\")\n",
    "plt.show()\n"
   ]
  },
  {
   "cell_type": "code",
   "execution_count": 4,
   "id": "d568a1da",
   "metadata": {},
   "outputs": [
    {
     "data": {
      "image/png": "[encoded data removed]",
      "text/plain": [
       "<Figure size 432x288 with 1 Axes>"
      ]
     },
     "metadata": {
      "needs_background": "light"
     },
     "output_type": "display_data"
    }
   ],
   "source": [
    "#plot mse Graph\n",
    "plt.plot(mse_history)\n",
    "plt.title(\"mse Graph\")\n",
    "plt.xlabel(\"epoch\")\n",
    "plt.ylabel(\"mse\")\n",
    "plt.show()"
   ]
  },
  {
   "cell_type": "code",
   "execution_count": 5,
   "id": "3cff4397",
   "metadata": {},
   "outputs": [
    {
     "name": "stdout",
     "output_type": "stream",
     "text": [
      "test accuracy:  0.92043847\n"
     ]
    }
   ],
   "source": [
    "#print final accuracy\n",
    "\n",
    "correct_prediction = tf.equal(tf.argmax(y, 1), tf.argmax(y_, 1))\n",
    "accuracy = tf.reduce_mean(tf.cast(correct_prediction, tf.float32))\n",
    "print (\"test accuracy: \", (sess.run(accuracy, feed_dict={x: test_x, y_: test_y})))\n",
    "            \n",
    "                              \n"
   ]
  },
  {
   "cell_type": "code",
   "execution_count": 6,
   "id": "6f7dfe1d",
   "metadata": {},
   "outputs": [
    {
     "name": "stdout",
     "output_type": "stream",
     "text": [
      "Mse: -0.0886\n"
     ]
    }
   ],
   "source": [
    "#print the final mean sq error\n",
    "pred_y = sess.run(y, feed_dict={x:test_x})\n",
    "mse = tf.reduce_mean(tf.square(pred_y) - test_y)                              \n",
    "print (\"Mse: %.4f\" % sess.run(mse)) "
   ]
  },
  {
   "cell_type": "code",
   "execution_count": 7,
   "id": "248181c9",
   "metadata": {},
   "outputs": [
    {
     "data": {
      "text/plain": [
       "array([[0.07495865, 0.9250413 ],\n",
       "       [0.04833359, 0.95166636],\n",
       "       [0.3506164 , 0.64938354],\n",
       "       ...,\n",
       "       [0.07495866, 0.9250414 ],\n",
       "       [0.04833359, 0.95166636],\n",
       "       [0.07495866, 0.9250414 ]], dtype=float32)"
      ]
     },
     "execution_count": 7,
     "metadata": {},
     "output_type": "execute_result"
    }
   ],
   "source": [
    "pred_y"
   ]
  },
  {
   "cell_type": "code",
   "execution_count": 8,
   "id": "722bd286",
   "metadata": {},
   "outputs": [
    {
     "data": {
      "text/plain": [
       "array([[0., 2., 9., ..., 0., 0., 1.],\n",
       "       [0., 2., 9., ..., 0., 0., 1.],\n",
       "       [1., 0., 1., ..., 0., 0., 0.],\n",
       "       ...,\n",
       "       [0., 2., 9., ..., 0., 0., 1.],\n",
       "       [0., 2., 9., ..., 0., 0., 1.],\n",
       "       [0., 2., 9., ..., 0., 0., 1.]])"
      ]
     },
     "execution_count": 8,
     "metadata": {},
     "output_type": "execute_result"
    }
   ],
   "source": [
    "test_x"
   ]
  },
  {
   "cell_type": "markdown",
   "id": "a8596429",
   "metadata": {},
   "source": [
    "\n",
    "plt.plot(range(len(cost_history)),cost_history)\n",
    "plt.plot(range(len(accuracy_history)),accuracy_history)\n",
    "plt.legend(['Cost','Accuracy'])\n",
    "plt.xlabel('Epoch')\n",
    "plt.ylabel('Cost/Accuracy')\n",
    "plt.title('Learning Curve')\n",
    "plt.show()"
   ]
  },
  {
   "cell_type": "markdown",
   "id": "874d3435",
   "metadata": {},
   "source": [
    "# Plot mse and accuracy graph\n",
    "plt.plot(mse_history, 'r')\n",
    "plt.show()\n",
    "plt.plot(accuracy_history)\n",
    "plt.show()\n",
    "\n",
    "#Once the model is trained, we can apply cross validation\n",
    "\n",
    "#Define KFold\n",
    "kf = KFold(n_splits=5)\n",
    "\n",
    "#Define the KNN model\n",
    "knn = KNeighborsClassifier(n_neighbors=5)\n",
    "\n",
    "#loop through the KFold splits\n",
    "for train_index, test_index in kf.split(X):\n",
    "    X_train, X_test = X[train_index], X[test_index]\n",
    "    y_train, y_test = Y[train_index], Y[test_index]\n",
    "    \n",
    "    #fit the model on the training data\n",
    "    knn.fit(X_train, y_train)\n",
    "    \n",
    "    #predict on the test data\n",
    "    y_pred = knn.predict(X_test)\n",
    "    \n",
    "    #calculate the mean absolute error\n",
    "    mae = mean_absolute_"
   ]
  },
  {
   "cell_type": "code",
   "execution_count": null,
   "id": "cbcbc5c6",
   "metadata": {},
   "outputs": [],
   "source": [
    "from IPython.display import SVG\n",
    "from keras.utils.vis_utils import model_to_dot\n",
    "\n",
    "\n",
    "# Define the model\n",
    "model = tf.keras.models.Sequential()\n",
    "model.add(tf.keras.layers.Dense(n_hidden_1, activation='relu', input_shape=(n_dim,)))\n",
    "model.add(tf.keras.layers.Dense(n_hidden_2, activation='sigmoid'))\n",
    "model.add(tf.keras.layers.Dense(n_hidden_3, activation='softmax'))\n",
    "model.add(tf.keras.layers.Dense(n_class, activation='softmax'))\n",
    "\n",
    "# Save the model to a file\n",
    "tf.keras.utils.plot_model(model, to_file='model.png', show_shapes=True, show_layer_names=True)\n"
   ]
  },
  {
   "cell_type": "code",
   "execution_count": null,
   "id": "edd530a4",
   "metadata": {},
   "outputs": [],
   "source": []
  },
  {
   "cell_type": "code",
   "execution_count": null,
   "id": "9e6db504",
   "metadata": {},
   "outputs": [],
   "source": []
  }
 ],
 "metadata": {
  "kernelspec": {
   "display_name": "Python 3 (ipykernel)",
   "language": "python",
   "name": "python3"
  },
  "language_info": {
   "codemirror_mode": {
    "name": "ipython",
    "version": 3
   },
   "file_extension": ".py",
   "mimetype": "text/x-python",
   "name": "python",
   "nbconvert_exporter": "python",
   "pygments_lexer": "ipython3",
   "version": "3.9.7"
  }
 },
 "nbformat": 4,
 "nbformat_minor": 5
}
